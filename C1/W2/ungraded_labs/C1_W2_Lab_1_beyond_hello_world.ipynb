{
  "nbformat": 4,
  "nbformat_minor": 0,
  "metadata": {
    "colab": {
      "name": "C1_W2_Lab_1_beyond_hello_world.ipynb",
      "provenance": [],
      "collapsed_sections": [],
      "toc_visible": true,
      "include_colab_link": true
    },
    "kernelspec": {
      "name": "python3",
      "display_name": "Python 3"
    },
    "language_info": {
      "name": "python"
    },
    "accelerator": "GPU"
  },
  "cells": [
    {
      "cell_type": "markdown",
      "metadata": {
        "id": "view-in-github",
        "colab_type": "text"
      },
      "source": [
        "<a href=\"https://colab.research.google.com/github/F-Emm/hello-world/blob/master/C1/W2/ungraded_labs/C1_W2_Lab_1_beyond_hello_world.ipynb\" target=\"_parent\"><img src=\"https://colab.research.google.com/assets/colab-badge.svg\" alt=\"Open In Colab\"/></a>"
      ]
    },
    {
      "cell_type": "markdown",
      "metadata": {
        "id": "rX8mhOLljYeM"
      },
      "source": [
        "##### Copyright 2019 The TensorFlow Authors."
      ]
    },
    {
      "cell_type": "code",
      "metadata": {
        "cellView": "form",
        "id": "BZSlp3DAjdYf"
      },
      "source": [
        "#@title Licensed under the Apache License, Version 2.0 (the \"License\");\n",
        "# you may not use this file except in compliance with the License.\n",
        "# You may obtain a copy of the License at\n",
        "#\n",
        "# https://www.apache.org/licenses/LICENSE-2.0\n",
        "#\n",
        "# Unless required by applicable law or agreed to in writing, software\n",
        "# distributed under the License is distributed on an \"AS IS\" BASIS,\n",
        "# WITHOUT WARRANTIES OR CONDITIONS OF ANY KIND, either express or implied.\n",
        "# See the License for the specific language governing permissions and\n",
        "# limitations under the License."
      ],
      "execution_count": null,
      "outputs": []
    },
    {
      "cell_type": "markdown",
      "metadata": {
        "id": "qnyTxjK_GbOD"
      },
      "source": [
        "# Beyond Hello World, A Computer Vision Example\n",
        "In the previous exercise you saw how to create a neural network that figured out the problem you were trying to solve. This gave an explicit example of learned behavior. Of course, in that instance, it was a bit of overkill because it would have been easier to write the function Y=2x-1 directly, instead of bothering with using Machine Learning to learn the relationship between X and Y for a fixed set of values, and extending that for all values.\n",
        "\n",
        "But what about a scenario where writing rules like that is much more difficult -- for example a computer vision problem? Let's take a look at a scenario where we can recognize different items of clothing, trained from a dataset containing 10 different types."
      ]
    },
    {
      "cell_type": "markdown",
      "metadata": {
        "id": "H41FYgtlHPjW"
      },
      "source": [
        "## Start Coding\n",
        "\n",
        "Let's start with our import of TensorFlow.\n",
        "\n",
        "(**Note:** You can run the notebook using TensorFlow 2.5.0)"
      ]
    },
    {
      "cell_type": "code",
      "metadata": {
        "id": "lirw5hwinmeD"
      },
      "source": [
        "#!pip install tensorflow==2.5.0"
      ],
      "execution_count": null,
      "outputs": []
    },
    {
      "cell_type": "code",
      "metadata": {
        "id": "q3KzJyjv3rnA",
        "colab": {
          "base_uri": "https://localhost:8080/"
        },
        "outputId": "95ed8f5b-609f-4371-d3b7-51898dc1e967"
      },
      "source": [
        "import tensorflow as tf\n",
        "\n",
        "print(tf.__version__)"
      ],
      "execution_count": 1,
      "outputs": [
        {
          "output_type": "stream",
          "name": "stdout",
          "text": [
            "2.7.0\n"
          ]
        }
      ]
    },
    {
      "cell_type": "markdown",
      "metadata": {
        "id": "n_n1U5do3u_F"
      },
      "source": [
        "The Fashion MNIST data is available directly in the tf.keras datasets API. You load it like this:"
      ]
    },
    {
      "cell_type": "code",
      "metadata": {
        "id": "PmxkHFpt31bM"
      },
      "source": [
        "mnist = tf.keras.datasets.fashion_mnist"
      ],
      "execution_count": 3,
      "outputs": []
    },
    {
      "cell_type": "markdown",
      "metadata": {
        "id": "GuoLQQBT4E-_"
      },
      "source": [
        "Calling load_data on this object will give you two sets of two lists, these will be the training and testing values for the graphics that contain the clothing items and their labels.\n"
      ]
    },
    {
      "cell_type": "code",
      "metadata": {
        "id": "BTdRgExe4TRB",
        "colab": {
          "base_uri": "https://localhost:8080/"
        },
        "outputId": "0b4b78de-a790-4a4d-ab8c-d0bab610733b"
      },
      "source": [
        "(training_images, training_labels), (test_images, test_labels) = mnist.load_data()"
      ],
      "execution_count": 4,
      "outputs": [
        {
          "output_type": "stream",
          "name": "stdout",
          "text": [
            "Downloading data from https://storage.googleapis.com/tensorflow/tf-keras-datasets/train-labels-idx1-ubyte.gz\n",
            "32768/29515 [=================================] - 0s 0us/step\n",
            "40960/29515 [=========================================] - 0s 0us/step\n",
            "Downloading data from https://storage.googleapis.com/tensorflow/tf-keras-datasets/train-images-idx3-ubyte.gz\n",
            "26427392/26421880 [==============================] - 0s 0us/step\n",
            "26435584/26421880 [==============================] - 0s 0us/step\n",
            "Downloading data from https://storage.googleapis.com/tensorflow/tf-keras-datasets/t10k-labels-idx1-ubyte.gz\n",
            "16384/5148 [===============================================================================================] - 0s 0us/step\n",
            "Downloading data from https://storage.googleapis.com/tensorflow/tf-keras-datasets/t10k-images-idx3-ubyte.gz\n",
            "4423680/4422102 [==============================] - 0s 0us/step\n",
            "4431872/4422102 [==============================] - 0s 0us/step\n"
          ]
        }
      ]
    },
    {
      "cell_type": "markdown",
      "metadata": {
        "id": "rw395ROx4f5Q"
      },
      "source": [
        "What does these values look like? Let's print a training image, and a training label to see...Experiment with different indices in the array. For example, also take a look at index 42...that's a a different boot than the one at index 0\n"
      ]
    },
    {
      "cell_type": "code",
      "metadata": {
        "id": "FPc9d3gJ3jWF",
        "colab": {
          "base_uri": "https://localhost:8080/",
          "height": 815
        },
        "outputId": "a3da6d3c-be0b-49ba-873c-d98c5a36c9fd"
      },
      "source": [
        "import numpy as np\n",
        "np.set_printoptions(linewidth=200)\n",
        "import matplotlib.pyplot as plt\n",
        "plt.imshow(training_images[5])\n",
        "print(training_labels[5])\n",
        "print(training_images[5])"
      ],
      "execution_count": 7,
      "outputs": [
        {
          "output_type": "stream",
          "name": "stdout",
          "text": [
            "2\n",
            "[[  0   0   0   0   1   0   0   0   0  22  88 188 172 132 125 141 199 143   9   0   0   0   1   0   0   0   0   0]\n",
            " [  0   0   0   1   0   0  20 131 199 206 196 202 242 255 255 250 222 197 206 188 126  17   0   0   0   0   0   0]\n",
            " [  0   0   0   1   0  35 214 191 183 178 175 168 150 162 159 152 158 179 183 189 195 185  82   0   0   0   0   0]\n",
            " [  0   0   0   0   0 170 190 172 177 176 171 169 162 155 148 154 169 174 175 175 177 183 188  12   0   0   0   0]\n",
            " [  0   0   0   0  25 194 180 178 174 184 187 189 187 184 181 189 200 197 193 190 178 175 194  90   0   0   0   0]\n",
            " [  0   0   0   0  42 218 191 197 208 204 211 209 210 212 211 214 215 213 214 211 211 191 200 158   0   0   0   0]\n",
            " [  0   0   0   0  88 221 215 217 219 211 185 150 118 107  99  88  83  90 135 212 203 207 219 169   0   0   0   0]\n",
            " [  0   0   0   0   0  27 118 162  40   0   0   0  10  19  28  39  47  36   0   0 203 230 220 203   0   0   0   0]\n",
            " [  0   0   0   0 138 136  71  69  54 216 217 203 184 168 163 162 163 178 221 186  38  26   7   0   0   0   0   0]\n",
            " [  0   0   0   0  67 134 154 224 129  66  81 117 129 128 132 137 131 129  86  73 157 151 134 216  18   0   0   0]\n",
            " [  0   0   0   0 203 198 172 183 206 255 255 250 243 240 239 235 238 244 255 238 184 160  86  98   0   0   0   0]\n",
            " [  0   0   0   0 122 188 224 151 105 127  97 100 105 114 117 117 113 103  98 111 142 254 191 255  49   0   0   0]\n",
            " [  0   0   0   0 163 179 200  95 154 198 197 200 200 198 197 198 199 202 200 176  86 206 157 162  10   0   0   0]\n",
            " [  0   0   0   0 197 201 229  71 144 194 181 183 179 182 180 179 180 190 185 197  76 219 185 201  34   0   0   0]\n",
            " [  0   0   0   0 199 193 226  58 154 192 184 187 184 186 184 185 183 192 191 200  56 219 203 207  60   0   0   0]\n",
            " [  0   0   0   0 201 194 224  41 163 190 186 186 184 185 183 185 178 190 194 202  33 211 200 206  73   0   0   0]\n",
            " [  0   0   0   0 201 197 222  17 172 190 186 187 182 186 185 187 180 187 193 202  26 212 202 203  76   0   0   0]\n",
            " [  0   0   0   0 200 197 223   0 177 189 184 185 178 184 183 184 180 183 189 203  35 196 203 203  84   0   0   0]\n",
            " [  0   0   0   0 200 197 223   0 185 187 185 187 180 184 182 183 178 182 183 205  44 159 207 201  85   0   0   0]\n",
            " [  0   0   0   0 187 198 225   0 194 188 184 185 180 183 183 184 181 181 177 206  46 129 211 200  88   0   0   0]\n",
            " [  0   0   0   6 186 200 211   0 199 189 184 184 185 182 183 184 185 182 175 205  50  97 216 197  93   0   0   0]\n",
            " [  0   0   0   5 185 204 184   0 202 188 182 182 183 183 184 182 180 182 174 202  63  59 220 196  94   0   0   0]\n",
            " [  0   0   0   5 184 206 157   0 204 187 187 189 192 190 190 191 190 187 183 202  78  35 222 197  95   0   0   0]\n",
            " [  0   0   0   5 183 208 127   0 197 166 153 149 149 146 148 149 150 151 158 191  90   8 223 195  99   0   0   0]\n",
            " [  0   0   0   6 184 208 114   0 204 173 161 180 176 172 173 173 174 176 162 202 115   0 229 199 105   0   0   0]\n",
            " [  0   0   0   9 178 204 115   0 121 135 114 117 114 114 117 118 119 117 113 147  63   0 225 196 107   0   0   0]\n",
            " [  0   0   0  18 180 206 131   0   0   0   0   0   0   0   0   0   0   0   0   0   0   0 224 197 123   0   0   0]\n",
            " [  0   0   0   0 141 151  76   0   1   1   0   0   0   0   0   0   0   0   0   0   0   0 133 167  73   0   0   0]]\n"
          ]
        },
        {
          "output_type": "display_data",
          "data": {
            "image/png": "[encoded data removed]",
            "text/plain": [
              "<Figure size 432x288 with 1 Axes>"
            ]
          },
          "metadata": {
            "needs_background": "light"
          }
        }
      ]
    },
    {
      "cell_type": "markdown",
      "metadata": {
        "id": "3cbrdH225_nH"
      },
      "source": [
        "You'll notice that all of the values in the number are between 0 and 255. If we are training a neural network, for various reasons it's easier if we treat all values as between 0 and 1, a process called '**normalizing**'...and fortunately in Python it's easy to normalize a list like this without looping. You do it like this:"
      ]
    },
    {
      "cell_type": "code",
      "metadata": {
        "id": "kRH19pWs6ZDn"
      },
      "source": [
        "training_images  = training_images / 255.0\n",
        "test_images = test_images / 255.0"
      ],
      "execution_count": 8,
      "outputs": []
    },
    {
      "cell_type": "markdown",
      "metadata": {
        "id": "3DkO0As46lRn"
      },
      "source": [
        "Now you might be wondering why there are 2 sets...training and testing -- remember we spoke about this in the intro? The idea is to have 1 set of data for training, and then another set of data...that the model hasn't yet seen...to see how good it would be at classifying values. After all, when you're done, you're going to want to try it out with data that it hadn't previously seen!"
      ]
    },
    {
      "cell_type": "markdown",
      "metadata": {
        "id": "dIn7S9gf62ie"
      },
      "source": [
        "Let's now design the model. There's quite a few new concepts here, but don't worry, you'll get the hang of them. "
      ]
    },
    {
      "cell_type": "code",
      "metadata": {
        "id": "7mAyndG3kVlK"
      },
      "source": [
        "model = tf.keras.models.Sequential([tf.keras.layers.Flatten(), \n",
        "                                    tf.keras.layers.Dense(128, activation=tf.nn.relu), \n",
        "                                    tf.keras.layers.Dense(10, activation=tf.nn.softmax)])"
      ],
      "execution_count": 9,
      "outputs": []
    },
    {
      "cell_type": "markdown",
      "metadata": {
        "id": "-lUcWaiX7MFj"
      },
      "source": [
        "**Sequential**: That defines a SEQUENCE of layers in the neural network\n",
        "\n",
        "**Flatten**: Remember earlier where our images were a square, when you printed them out? Flatten just takes that square and turns it into a 1 dimensional set.\n",
        "\n",
        "**Dense**: Adds a layer of neurons\n",
        "\n",
        "Each layer of neurons need an **activation function** to tell them what to do. There's lots of options, but just use these for now. \n",
        "\n",
        "**Relu** effectively means \"If X>0 return X, else return 0\" -- so what it does it it only passes values 0 or greater to the next layer in the network.\n",
        "\n",
        "**Softmax** takes a set of values, and effectively picks the biggest one, so, for example, if the output of the last layer looks like [0.1, 0.1, 0.05, 0.1, 9.5, 0.1, 0.05, 0.05, 0.05], it saves you from fishing through it looking for the biggest value, and turns it into [0,0,0,0,1,0,0,0,0] -- The goal is to save a lot of coding!\n"
      ]
    },
    {
      "cell_type": "markdown",
      "metadata": {
        "id": "c8vbMCqb9Mh6"
      },
      "source": [
        "The next thing to do, now the model is defined, is to actually build it. You do this by compiling it with an optimizer and loss function as before -- and then you train it by calling **model.fit ** asking it to fit your training data to your training labels -- i.e. have it figure out the relationship between the training data and its actual labels, so in future if you have data that looks like the training data, then it can make a prediction for what that data would look like. "
      ]
    },
    {
      "cell_type": "code",
      "metadata": {
        "id": "BLMdl9aP8nQ0",
        "colab": {
          "base_uri": "https://localhost:8080/"
        },
        "outputId": "2771092e-5d3f-4b41-dc98-c3760c44bd9b"
      },
      "source": [
        "model.compile(optimizer = tf.optimizers.Adam(),\n",
        "              loss = 'sparse_categorical_crossentropy',\n",
        "              metrics=['accuracy'])\n",
        "\n",
        "model.fit(training_images, training_labels, epochs=500)"
      ],
      "execution_count": 11,
      "outputs": [
        {
          "output_type": "stream",
          "name": "stdout",
          "text": [
            "Epoch 1/500\n",
            "1875/1875 [==============================] - 6s 3ms/step - loss: 0.2797 - accuracy: 0.8958\n",
            "Epoch 2/500\n",
            "1875/1875 [==============================] - 5s 3ms/step - loss: 0.2654 - accuracy: 0.9013\n",
            "Epoch 3/500\n",
            "1875/1875 [==============================] - 5s 3ms/step - loss: 0.2553 - accuracy: 0.9046\n",
            "Epoch 4/500\n",
            "1875/1875 [==============================] - 5s 3ms/step - loss: 0.2478 - accuracy: 0.9076\n",
            "Epoch 5/500\n",
            "1875/1875 [==============================] - 5s 3ms/step - loss: 0.2374 - accuracy: 0.9110\n",
            "Epoch 6/500\n",
            "1875/1875 [==============================] - 5s 3ms/step - loss: 0.2300 - accuracy: 0.9131\n",
            "Epoch 7/500\n",
            "1875/1875 [==============================] - 5s 3ms/step - loss: 0.2228 - accuracy: 0.9175\n",
            "Epoch 8/500\n",
            "1875/1875 [==============================] - 5s 3ms/step - loss: 0.2140 - accuracy: 0.9200\n",
            "Epoch 9/500\n",
            "1875/1875 [==============================] - 5s 3ms/step - loss: 0.2107 - accuracy: 0.9205\n",
            "Epoch 10/500\n",
            "1875/1875 [==============================] - 5s 3ms/step - loss: 0.2014 - accuracy: 0.9250\n",
            "Epoch 11/500\n",
            "1875/1875 [==============================] - 5s 3ms/step - loss: 0.1979 - accuracy: 0.9257\n",
            "Epoch 12/500\n",
            "1875/1875 [==============================] - 5s 3ms/step - loss: 0.1913 - accuracy: 0.9282\n",
            "Epoch 13/500\n",
            "1875/1875 [==============================] - 5s 3ms/step - loss: 0.1865 - accuracy: 0.9299\n",
            "Epoch 14/500\n",
            "1875/1875 [==============================] - 5s 3ms/step - loss: 0.1823 - accuracy: 0.9320\n",
            "Epoch 15/500\n",
            "1875/1875 [==============================] - 5s 3ms/step - loss: 0.1787 - accuracy: 0.9328\n",
            "Epoch 16/500\n",
            "1875/1875 [==============================] - 5s 3ms/step - loss: 0.1719 - accuracy: 0.9349\n",
            "Epoch 17/500\n",
            "1875/1875 [==============================] - 5s 3ms/step - loss: 0.1682 - accuracy: 0.9364\n",
            "Epoch 18/500\n",
            "1875/1875 [==============================] - 5s 3ms/step - loss: 0.1658 - accuracy: 0.9375\n",
            "Epoch 19/500\n",
            "1875/1875 [==============================] - 5s 3ms/step - loss: 0.1615 - accuracy: 0.9392\n",
            "Epoch 20/500\n",
            "1875/1875 [==============================] - 5s 3ms/step - loss: 0.1557 - accuracy: 0.9416\n",
            "Epoch 21/500\n",
            "1875/1875 [==============================] - 5s 3ms/step - loss: 0.1535 - accuracy: 0.9421\n",
            "Epoch 22/500\n",
            "1875/1875 [==============================] - 5s 3ms/step - loss: 0.1516 - accuracy: 0.9425\n",
            "Epoch 23/500\n",
            "1875/1875 [==============================] - 5s 3ms/step - loss: 0.1484 - accuracy: 0.9437\n",
            "Epoch 24/500\n",
            "1875/1875 [==============================] - 5s 3ms/step - loss: 0.1442 - accuracy: 0.9455\n",
            "Epoch 25/500\n",
            "1875/1875 [==============================] - 5s 3ms/step - loss: 0.1420 - accuracy: 0.9473\n",
            "Epoch 26/500\n",
            "1875/1875 [==============================] - 5s 3ms/step - loss: 0.1378 - accuracy: 0.9482\n",
            "Epoch 27/500\n",
            "1875/1875 [==============================] - 5s 3ms/step - loss: 0.1365 - accuracy: 0.9482\n",
            "Epoch 28/500\n",
            "1875/1875 [==============================] - 5s 3ms/step - loss: 0.1331 - accuracy: 0.9505\n",
            "Epoch 29/500\n",
            "1875/1875 [==============================] - 5s 3ms/step - loss: 0.1308 - accuracy: 0.9507\n",
            "Epoch 30/500\n",
            "1875/1875 [==============================] - 5s 3ms/step - loss: 0.1289 - accuracy: 0.9511\n",
            "Epoch 31/500\n",
            "1875/1875 [==============================] - 5s 3ms/step - loss: 0.1289 - accuracy: 0.9518\n",
            "Epoch 32/500\n",
            "1875/1875 [==============================] - 5s 3ms/step - loss: 0.1232 - accuracy: 0.9531\n",
            "Epoch 33/500\n",
            "1875/1875 [==============================] - 5s 3ms/step - loss: 0.1231 - accuracy: 0.9537\n",
            "Epoch 34/500\n",
            "1875/1875 [==============================] - 5s 3ms/step - loss: 0.1168 - accuracy: 0.9568\n",
            "Epoch 35/500\n",
            "1875/1875 [==============================] - 5s 3ms/step - loss: 0.1143 - accuracy: 0.9574\n",
            "Epoch 36/500\n",
            "1875/1875 [==============================] - 5s 3ms/step - loss: 0.1155 - accuracy: 0.9562\n",
            "Epoch 37/500\n",
            "1875/1875 [==============================] - 5s 3ms/step - loss: 0.1114 - accuracy: 0.9575\n",
            "Epoch 38/500\n",
            "1875/1875 [==============================] - 5s 3ms/step - loss: 0.1101 - accuracy: 0.9589\n",
            "Epoch 39/500\n",
            "1875/1875 [==============================] - 6s 3ms/step - loss: 0.1082 - accuracy: 0.9592\n",
            "Epoch 40/500\n",
            "1875/1875 [==============================] - 5s 3ms/step - loss: 0.1073 - accuracy: 0.9592\n",
            "Epoch 41/500\n",
            "1875/1875 [==============================] - 5s 3ms/step - loss: 0.1063 - accuracy: 0.9598\n",
            "Epoch 42/500\n",
            "1875/1875 [==============================] - 5s 3ms/step - loss: 0.1046 - accuracy: 0.9609\n",
            "Epoch 43/500\n",
            "1875/1875 [==============================] - 5s 3ms/step - loss: 0.1024 - accuracy: 0.9609\n",
            "Epoch 44/500\n",
            "1875/1875 [==============================] - 5s 3ms/step - loss: 0.0996 - accuracy: 0.9629\n",
            "Epoch 45/500\n",
            "1875/1875 [==============================] - 5s 3ms/step - loss: 0.0969 - accuracy: 0.9631\n",
            "Epoch 46/500\n",
            "1875/1875 [==============================] - 5s 3ms/step - loss: 0.0968 - accuracy: 0.9632\n",
            "Epoch 47/500\n",
            "1875/1875 [==============================] - 5s 3ms/step - loss: 0.0957 - accuracy: 0.9635\n",
            "Epoch 48/500\n",
            "1875/1875 [==============================] - 5s 3ms/step - loss: 0.0958 - accuracy: 0.9632\n",
            "Epoch 49/500\n",
            "1875/1875 [==============================] - 5s 3ms/step - loss: 0.0931 - accuracy: 0.9653\n",
            "Epoch 50/500\n",
            "1875/1875 [==============================] - 5s 3ms/step - loss: 0.0935 - accuracy: 0.9647\n",
            "Epoch 51/500\n",
            "1875/1875 [==============================] - 5s 3ms/step - loss: 0.0895 - accuracy: 0.9661\n",
            "Epoch 52/500\n",
            "1875/1875 [==============================] - 5s 3ms/step - loss: 0.0894 - accuracy: 0.9662\n",
            "Epoch 53/500\n",
            "1875/1875 [==============================] - 5s 3ms/step - loss: 0.0861 - accuracy: 0.9674\n",
            "Epoch 54/500\n",
            "1875/1875 [==============================] - 5s 3ms/step - loss: 0.0860 - accuracy: 0.9679\n",
            "Epoch 55/500\n",
            "1875/1875 [==============================] - 5s 3ms/step - loss: 0.0859 - accuracy: 0.9665\n",
            "Epoch 56/500\n",
            "1875/1875 [==============================] - 5s 3ms/step - loss: 0.0828 - accuracy: 0.9690\n",
            "Epoch 57/500\n",
            "1875/1875 [==============================] - 5s 3ms/step - loss: 0.0840 - accuracy: 0.9687\n",
            "Epoch 58/500\n",
            "1875/1875 [==============================] - 5s 3ms/step - loss: 0.0807 - accuracy: 0.9700\n",
            "Epoch 59/500\n",
            "1875/1875 [==============================] - 5s 3ms/step - loss: 0.0809 - accuracy: 0.9691\n",
            "Epoch 60/500\n",
            "1875/1875 [==============================] - 5s 3ms/step - loss: 0.0791 - accuracy: 0.9711\n",
            "Epoch 61/500\n",
            "1875/1875 [==============================] - 5s 3ms/step - loss: 0.0778 - accuracy: 0.9710\n",
            "Epoch 62/500\n",
            "1875/1875 [==============================] - 5s 3ms/step - loss: 0.0749 - accuracy: 0.9719\n",
            "Epoch 63/500\n",
            "1875/1875 [==============================] - 5s 3ms/step - loss: 0.0753 - accuracy: 0.9714\n",
            "Epoch 64/500\n",
            "1875/1875 [==============================] - 5s 3ms/step - loss: 0.0761 - accuracy: 0.9713\n",
            "Epoch 65/500\n",
            "1875/1875 [==============================] - 5s 3ms/step - loss: 0.0740 - accuracy: 0.9717\n",
            "Epoch 66/500\n",
            "1875/1875 [==============================] - 5s 3ms/step - loss: 0.0758 - accuracy: 0.9712\n",
            "Epoch 67/500\n",
            "1875/1875 [==============================] - 5s 3ms/step - loss: 0.0678 - accuracy: 0.9753\n",
            "Epoch 68/500\n",
            "1875/1875 [==============================] - 5s 3ms/step - loss: 0.0717 - accuracy: 0.9725\n",
            "Epoch 69/500\n",
            "1875/1875 [==============================] - 5s 3ms/step - loss: 0.0731 - accuracy: 0.9726\n",
            "Epoch 70/500\n",
            "1875/1875 [==============================] - 5s 3ms/step - loss: 0.0695 - accuracy: 0.9737\n",
            "Epoch 71/500\n",
            "1875/1875 [==============================] - 5s 3ms/step - loss: 0.0709 - accuracy: 0.9736\n",
            "Epoch 72/500\n",
            "1875/1875 [==============================] - 5s 3ms/step - loss: 0.0682 - accuracy: 0.9740\n",
            "Epoch 73/500\n",
            "1875/1875 [==============================] - 5s 3ms/step - loss: 0.0657 - accuracy: 0.9750\n",
            "Epoch 74/500\n",
            "1875/1875 [==============================] - 5s 3ms/step - loss: 0.0676 - accuracy: 0.9745\n",
            "Epoch 75/500\n",
            "1875/1875 [==============================] - 5s 3ms/step - loss: 0.0660 - accuracy: 0.9754\n",
            "Epoch 76/500\n",
            "1875/1875 [==============================] - 5s 3ms/step - loss: 0.0662 - accuracy: 0.9746\n",
            "Epoch 77/500\n",
            "1875/1875 [==============================] - 5s 3ms/step - loss: 0.0650 - accuracy: 0.9767\n",
            "Epoch 78/500\n",
            "1875/1875 [==============================] - 5s 3ms/step - loss: 0.0656 - accuracy: 0.9758\n",
            "Epoch 79/500\n",
            "1875/1875 [==============================] - 5s 3ms/step - loss: 0.0643 - accuracy: 0.9763\n",
            "Epoch 80/500\n",
            "1875/1875 [==============================] - 5s 3ms/step - loss: 0.0629 - accuracy: 0.9766\n",
            "Epoch 81/500\n",
            "1875/1875 [==============================] - 5s 3ms/step - loss: 0.0612 - accuracy: 0.9771\n",
            "Epoch 82/500\n",
            "1875/1875 [==============================] - 5s 3ms/step - loss: 0.0619 - accuracy: 0.9772\n",
            "Epoch 83/500\n",
            "1875/1875 [==============================] - 5s 3ms/step - loss: 0.0582 - accuracy: 0.9785\n",
            "Epoch 84/500\n",
            "1875/1875 [==============================] - 5s 3ms/step - loss: 0.0587 - accuracy: 0.9789\n",
            "Epoch 85/500\n",
            "1875/1875 [==============================] - 5s 3ms/step - loss: 0.0592 - accuracy: 0.9772\n",
            "Epoch 86/500\n",
            "1875/1875 [==============================] - 5s 3ms/step - loss: 0.0586 - accuracy: 0.9784\n",
            "Epoch 87/500\n",
            "1875/1875 [==============================] - 5s 3ms/step - loss: 0.0593 - accuracy: 0.9777\n",
            "Epoch 88/500\n",
            "1875/1875 [==============================] - 5s 3ms/step - loss: 0.0572 - accuracy: 0.9791\n",
            "Epoch 89/500\n",
            "1875/1875 [==============================] - 5s 3ms/step - loss: 0.0559 - accuracy: 0.9793\n",
            "Epoch 90/500\n",
            "1875/1875 [==============================] - 5s 3ms/step - loss: 0.0562 - accuracy: 0.9792\n",
            "Epoch 91/500\n",
            "1875/1875 [==============================] - 5s 3ms/step - loss: 0.0547 - accuracy: 0.9791\n",
            "Epoch 92/500\n",
            "1875/1875 [==============================] - 5s 3ms/step - loss: 0.0538 - accuracy: 0.9797\n",
            "Epoch 93/500\n",
            "1875/1875 [==============================] - 5s 3ms/step - loss: 0.0525 - accuracy: 0.9804\n",
            "Epoch 94/500\n",
            "1875/1875 [==============================] - 5s 3ms/step - loss: 0.0545 - accuracy: 0.9790\n",
            "Epoch 95/500\n",
            "1875/1875 [==============================] - 5s 3ms/step - loss: 0.0540 - accuracy: 0.9806\n",
            "Epoch 96/500\n",
            "1875/1875 [==============================] - 5s 3ms/step - loss: 0.0516 - accuracy: 0.9811\n",
            "Epoch 97/500\n",
            "1875/1875 [==============================] - 5s 3ms/step - loss: 0.0546 - accuracy: 0.9802\n",
            "Epoch 98/500\n",
            "1875/1875 [==============================] - 5s 3ms/step - loss: 0.0512 - accuracy: 0.9812\n",
            "Epoch 99/500\n",
            "1875/1875 [==============================] - 5s 3ms/step - loss: 0.0525 - accuracy: 0.9797\n",
            "Epoch 100/500\n",
            "1875/1875 [==============================] - 5s 3ms/step - loss: 0.0479 - accuracy: 0.9822\n",
            "Epoch 101/500\n",
            "1875/1875 [==============================] - 5s 3ms/step - loss: 0.0490 - accuracy: 0.9814\n",
            "Epoch 102/500\n",
            "1875/1875 [==============================] - 5s 3ms/step - loss: 0.0496 - accuracy: 0.9815\n",
            "Epoch 103/500\n",
            "1875/1875 [==============================] - 5s 3ms/step - loss: 0.0495 - accuracy: 0.9817\n",
            "Epoch 104/500\n",
            "1875/1875 [==============================] - 5s 3ms/step - loss: 0.0497 - accuracy: 0.9815\n",
            "Epoch 105/500\n",
            "1875/1875 [==============================] - 5s 3ms/step - loss: 0.0487 - accuracy: 0.9822\n",
            "Epoch 106/500\n",
            "1875/1875 [==============================] - 5s 3ms/step - loss: 0.0507 - accuracy: 0.9817\n",
            "Epoch 107/500\n",
            "1875/1875 [==============================] - 5s 3ms/step - loss: 0.0461 - accuracy: 0.9827\n",
            "Epoch 108/500\n",
            "1875/1875 [==============================] - 5s 3ms/step - loss: 0.0495 - accuracy: 0.9812\n",
            "Epoch 109/500\n",
            "1875/1875 [==============================] - 5s 3ms/step - loss: 0.0464 - accuracy: 0.9833\n",
            "Epoch 110/500\n",
            "1875/1875 [==============================] - 5s 3ms/step - loss: 0.0467 - accuracy: 0.9828\n",
            "Epoch 111/500\n",
            "1875/1875 [==============================] - 5s 3ms/step - loss: 0.0461 - accuracy: 0.9828\n",
            "Epoch 112/500\n",
            "1875/1875 [==============================] - 5s 3ms/step - loss: 0.0450 - accuracy: 0.9830\n",
            "Epoch 113/500\n",
            "1875/1875 [==============================] - 5s 3ms/step - loss: 0.0456 - accuracy: 0.9828\n",
            "Epoch 114/500\n",
            "1875/1875 [==============================] - 5s 3ms/step - loss: 0.0445 - accuracy: 0.9838\n",
            "Epoch 115/500\n",
            "1875/1875 [==============================] - 5s 3ms/step - loss: 0.0446 - accuracy: 0.9838\n",
            "Epoch 116/500\n",
            "1875/1875 [==============================] - 5s 3ms/step - loss: 0.0444 - accuracy: 0.9835\n",
            "Epoch 117/500\n",
            "1875/1875 [==============================] - 5s 3ms/step - loss: 0.0450 - accuracy: 0.9834\n",
            "Epoch 118/500\n",
            "1875/1875 [==============================] - 5s 3ms/step - loss: 0.0435 - accuracy: 0.9838\n",
            "Epoch 119/500\n",
            "1875/1875 [==============================] - 5s 3ms/step - loss: 0.0427 - accuracy: 0.9850\n",
            "Epoch 120/500\n",
            "1875/1875 [==============================] - 5s 3ms/step - loss: 0.0417 - accuracy: 0.9843\n",
            "Epoch 121/500\n",
            "1875/1875 [==============================] - 5s 3ms/step - loss: 0.0438 - accuracy: 0.9841\n",
            "Epoch 122/500\n",
            "1875/1875 [==============================] - 5s 3ms/step - loss: 0.0424 - accuracy: 0.9844\n",
            "Epoch 123/500\n",
            "1875/1875 [==============================] - 5s 3ms/step - loss: 0.0421 - accuracy: 0.9843\n",
            "Epoch 124/500\n",
            "1875/1875 [==============================] - 5s 3ms/step - loss: 0.0414 - accuracy: 0.9845\n",
            "Epoch 125/500\n",
            "1875/1875 [==============================] - 5s 3ms/step - loss: 0.0425 - accuracy: 0.9844\n",
            "Epoch 126/500\n",
            "1875/1875 [==============================] - 5s 3ms/step - loss: 0.0390 - accuracy: 0.9855\n",
            "Epoch 127/500\n",
            "1875/1875 [==============================] - 5s 3ms/step - loss: 0.0414 - accuracy: 0.9850\n",
            "Epoch 128/500\n",
            "1875/1875 [==============================] - 5s 3ms/step - loss: 0.0421 - accuracy: 0.9845\n",
            "Epoch 129/500\n",
            "1875/1875 [==============================] - 5s 3ms/step - loss: 0.0408 - accuracy: 0.9848\n",
            "Epoch 130/500\n",
            "1875/1875 [==============================] - 5s 3ms/step - loss: 0.0426 - accuracy: 0.9841\n",
            "Epoch 131/500\n",
            "1875/1875 [==============================] - 5s 3ms/step - loss: 0.0381 - accuracy: 0.9859\n",
            "Epoch 132/500\n",
            "1875/1875 [==============================] - 5s 3ms/step - loss: 0.0395 - accuracy: 0.9858\n",
            "Epoch 133/500\n",
            "1875/1875 [==============================] - 5s 3ms/step - loss: 0.0394 - accuracy: 0.9855\n",
            "Epoch 134/500\n",
            "1875/1875 [==============================] - 5s 3ms/step - loss: 0.0375 - accuracy: 0.9863\n",
            "Epoch 135/500\n",
            "1875/1875 [==============================] - 5s 3ms/step - loss: 0.0410 - accuracy: 0.9849\n",
            "Epoch 136/500\n",
            "1875/1875 [==============================] - 5s 3ms/step - loss: 0.0354 - accuracy: 0.9877\n",
            "Epoch 137/500\n",
            "1875/1875 [==============================] - 5s 3ms/step - loss: 0.0362 - accuracy: 0.9864\n",
            "Epoch 138/500\n",
            "1875/1875 [==============================] - 5s 3ms/step - loss: 0.0388 - accuracy: 0.9860\n",
            "Epoch 139/500\n",
            "1875/1875 [==============================] - 5s 3ms/step - loss: 0.0392 - accuracy: 0.9857\n",
            "Epoch 140/500\n",
            "1875/1875 [==============================] - 5s 3ms/step - loss: 0.0372 - accuracy: 0.9862\n",
            "Epoch 141/500\n",
            "1875/1875 [==============================] - 5s 3ms/step - loss: 0.0352 - accuracy: 0.9867\n",
            "Epoch 142/500\n",
            "1875/1875 [==============================] - 5s 3ms/step - loss: 0.0376 - accuracy: 0.9865\n",
            "Epoch 143/500\n",
            "1875/1875 [==============================] - 5s 3ms/step - loss: 0.0357 - accuracy: 0.9869\n",
            "Epoch 144/500\n",
            "1875/1875 [==============================] - 5s 3ms/step - loss: 0.0367 - accuracy: 0.9863\n",
            "Epoch 145/500\n",
            "1875/1875 [==============================] - 5s 3ms/step - loss: 0.0353 - accuracy: 0.9870\n",
            "Epoch 146/500\n",
            "1875/1875 [==============================] - 5s 3ms/step - loss: 0.0360 - accuracy: 0.9871\n",
            "Epoch 147/500\n",
            "1875/1875 [==============================] - 5s 3ms/step - loss: 0.0354 - accuracy: 0.9877\n",
            "Epoch 148/500\n",
            "1875/1875 [==============================] - 5s 3ms/step - loss: 0.0354 - accuracy: 0.9872\n",
            "Epoch 149/500\n",
            "1875/1875 [==============================] - 5s 3ms/step - loss: 0.0323 - accuracy: 0.9885\n",
            "Epoch 150/500\n",
            "1875/1875 [==============================] - 5s 3ms/step - loss: 0.0353 - accuracy: 0.9874\n",
            "Epoch 151/500\n",
            "1875/1875 [==============================] - 5s 3ms/step - loss: 0.0347 - accuracy: 0.9876\n",
            "Epoch 152/500\n",
            "1875/1875 [==============================] - 5s 3ms/step - loss: 0.0336 - accuracy: 0.9880\n",
            "Epoch 153/500\n",
            "1875/1875 [==============================] - 5s 3ms/step - loss: 0.0305 - accuracy: 0.9889\n",
            "Epoch 154/500\n",
            "1875/1875 [==============================] - 5s 3ms/step - loss: 0.0356 - accuracy: 0.9868\n",
            "Epoch 155/500\n",
            "1875/1875 [==============================] - 5s 3ms/step - loss: 0.0349 - accuracy: 0.9870\n",
            "Epoch 156/500\n",
            "1875/1875 [==============================] - 5s 3ms/step - loss: 0.0318 - accuracy: 0.9885\n",
            "Epoch 157/500\n",
            "1875/1875 [==============================] - 6s 3ms/step - loss: 0.0356 - accuracy: 0.9874\n",
            "Epoch 158/500\n",
            "1875/1875 [==============================] - 6s 3ms/step - loss: 0.0322 - accuracy: 0.9886\n",
            "Epoch 159/500\n",
            "1875/1875 [==============================] - 5s 3ms/step - loss: 0.0339 - accuracy: 0.9877\n",
            "Epoch 160/500\n",
            "1875/1875 [==============================] - 5s 3ms/step - loss: 0.0342 - accuracy: 0.9879\n",
            "Epoch 161/500\n",
            "1875/1875 [==============================] - 5s 3ms/step - loss: 0.0310 - accuracy: 0.9889\n",
            "Epoch 162/500\n",
            "1875/1875 [==============================] - 5s 3ms/step - loss: 0.0340 - accuracy: 0.9876\n",
            "Epoch 163/500\n",
            "1875/1875 [==============================] - 5s 3ms/step - loss: 0.0346 - accuracy: 0.9875\n",
            "Epoch 164/500\n",
            "1875/1875 [==============================] - 5s 3ms/step - loss: 0.0311 - accuracy: 0.9887\n",
            "Epoch 165/500\n",
            "1875/1875 [==============================] - 5s 3ms/step - loss: 0.0335 - accuracy: 0.9879\n",
            "Epoch 166/500\n",
            "1875/1875 [==============================] - 5s 3ms/step - loss: 0.0289 - accuracy: 0.9894\n",
            "Epoch 167/500\n",
            "1875/1875 [==============================] - 5s 3ms/step - loss: 0.0321 - accuracy: 0.9882\n",
            "Epoch 168/500\n",
            "1875/1875 [==============================] - 5s 3ms/step - loss: 0.0312 - accuracy: 0.9886\n",
            "Epoch 169/500\n",
            "1875/1875 [==============================] - 5s 3ms/step - loss: 0.0305 - accuracy: 0.9892\n",
            "Epoch 170/500\n",
            "1875/1875 [==============================] - 5s 3ms/step - loss: 0.0301 - accuracy: 0.9888\n",
            "Epoch 171/500\n",
            "1875/1875 [==============================] - 5s 3ms/step - loss: 0.0295 - accuracy: 0.9895\n",
            "Epoch 172/500\n",
            "1875/1875 [==============================] - 5s 3ms/step - loss: 0.0296 - accuracy: 0.9892\n",
            "Epoch 173/500\n",
            "1875/1875 [==============================] - 5s 3ms/step - loss: 0.0307 - accuracy: 0.9892\n",
            "Epoch 174/500\n",
            "1875/1875 [==============================] - 5s 3ms/step - loss: 0.0315 - accuracy: 0.9887\n",
            "Epoch 175/500\n",
            "1875/1875 [==============================] - 5s 3ms/step - loss: 0.0302 - accuracy: 0.9893\n",
            "Epoch 176/500\n",
            "1875/1875 [==============================] - 5s 3ms/step - loss: 0.0293 - accuracy: 0.9892\n",
            "Epoch 177/500\n",
            "1875/1875 [==============================] - 5s 3ms/step - loss: 0.0271 - accuracy: 0.9901\n",
            "Epoch 178/500\n",
            "1875/1875 [==============================] - 5s 3ms/step - loss: 0.0313 - accuracy: 0.9890\n",
            "Epoch 179/500\n",
            "1875/1875 [==============================] - 5s 3ms/step - loss: 0.0294 - accuracy: 0.9896\n",
            "Epoch 180/500\n",
            "1875/1875 [==============================] - 5s 3ms/step - loss: 0.0306 - accuracy: 0.9891\n",
            "Epoch 181/500\n",
            "1875/1875 [==============================] - 5s 3ms/step - loss: 0.0271 - accuracy: 0.9900\n",
            "Epoch 182/500\n",
            "1875/1875 [==============================] - 5s 3ms/step - loss: 0.0278 - accuracy: 0.9897\n",
            "Epoch 183/500\n",
            "1875/1875 [==============================] - 5s 3ms/step - loss: 0.0284 - accuracy: 0.9901\n",
            "Epoch 184/500\n",
            "1875/1875 [==============================] - 5s 3ms/step - loss: 0.0265 - accuracy: 0.9908\n",
            "Epoch 185/500\n",
            "1875/1875 [==============================] - 5s 3ms/step - loss: 0.0282 - accuracy: 0.9907\n",
            "Epoch 186/500\n",
            "1875/1875 [==============================] - 5s 3ms/step - loss: 0.0281 - accuracy: 0.9903\n",
            "Epoch 187/500\n",
            "1875/1875 [==============================] - 5s 3ms/step - loss: 0.0273 - accuracy: 0.9904\n",
            "Epoch 188/500\n",
            "1875/1875 [==============================] - 5s 3ms/step - loss: 0.0287 - accuracy: 0.9902\n",
            "Epoch 189/500\n",
            "1875/1875 [==============================] - 5s 3ms/step - loss: 0.0282 - accuracy: 0.9902\n",
            "Epoch 190/500\n",
            "1875/1875 [==============================] - 5s 3ms/step - loss: 0.0284 - accuracy: 0.9904\n",
            "Epoch 191/500\n",
            "1875/1875 [==============================] - 5s 3ms/step - loss: 0.0245 - accuracy: 0.9909\n",
            "Epoch 192/500\n",
            "1875/1875 [==============================] - 5s 3ms/step - loss: 0.0305 - accuracy: 0.9894\n",
            "Epoch 193/500\n",
            "1875/1875 [==============================] - 5s 3ms/step - loss: 0.0259 - accuracy: 0.9912\n",
            "Epoch 194/500\n",
            "1875/1875 [==============================] - 5s 3ms/step - loss: 0.0285 - accuracy: 0.9899\n",
            "Epoch 195/500\n",
            "1875/1875 [==============================] - 5s 3ms/step - loss: 0.0244 - accuracy: 0.9917\n",
            "Epoch 196/500\n",
            "1875/1875 [==============================] - 5s 3ms/step - loss: 0.0273 - accuracy: 0.9901\n",
            "Epoch 197/500\n",
            "1875/1875 [==============================] - 5s 3ms/step - loss: 0.0263 - accuracy: 0.9907\n",
            "Epoch 198/500\n",
            "1875/1875 [==============================] - 5s 3ms/step - loss: 0.0262 - accuracy: 0.9913\n",
            "Epoch 199/500\n",
            "1875/1875 [==============================] - 5s 3ms/step - loss: 0.0284 - accuracy: 0.9897\n",
            "Epoch 200/500\n",
            "1875/1875 [==============================] - 5s 3ms/step - loss: 0.0259 - accuracy: 0.9909\n",
            "Epoch 201/500\n",
            "1875/1875 [==============================] - 5s 3ms/step - loss: 0.0261 - accuracy: 0.9911\n",
            "Epoch 202/500\n",
            "1875/1875 [==============================] - 5s 3ms/step - loss: 0.0262 - accuracy: 0.9906\n",
            "Epoch 203/500\n",
            "1875/1875 [==============================] - 5s 3ms/step - loss: 0.0258 - accuracy: 0.9909\n",
            "Epoch 204/500\n",
            "1875/1875 [==============================] - 5s 3ms/step - loss: 0.0300 - accuracy: 0.9895\n",
            "Epoch 205/500\n",
            "1875/1875 [==============================] - 5s 3ms/step - loss: 0.0261 - accuracy: 0.9906\n",
            "Epoch 206/500\n",
            "1875/1875 [==============================] - 5s 3ms/step - loss: 0.0239 - accuracy: 0.9915\n",
            "Epoch 207/500\n",
            "1875/1875 [==============================] - 5s 3ms/step - loss: 0.0272 - accuracy: 0.9906\n",
            "Epoch 208/500\n",
            "1875/1875 [==============================] - 5s 3ms/step - loss: 0.0258 - accuracy: 0.9911\n",
            "Epoch 209/500\n",
            "1875/1875 [==============================] - 5s 3ms/step - loss: 0.0220 - accuracy: 0.9926\n",
            "Epoch 210/500\n",
            "1875/1875 [==============================] - 5s 3ms/step - loss: 0.0262 - accuracy: 0.9914\n",
            "Epoch 211/500\n",
            "1875/1875 [==============================] - 5s 3ms/step - loss: 0.0247 - accuracy: 0.9915\n",
            "Epoch 212/500\n",
            "1875/1875 [==============================] - 5s 3ms/step - loss: 0.0239 - accuracy: 0.9916\n",
            "Epoch 213/500\n",
            "1875/1875 [==============================] - 6s 3ms/step - loss: 0.0259 - accuracy: 0.9911\n",
            "Epoch 214/500\n",
            "1875/1875 [==============================] - 6s 3ms/step - loss: 0.0245 - accuracy: 0.9915\n",
            "Epoch 215/500\n",
            "1875/1875 [==============================] - 6s 3ms/step - loss: 0.0227 - accuracy: 0.9919\n",
            "Epoch 216/500\n",
            "1875/1875 [==============================] - 6s 3ms/step - loss: 0.0264 - accuracy: 0.9911\n",
            "Epoch 217/500\n",
            "1875/1875 [==============================] - 6s 3ms/step - loss: 0.0229 - accuracy: 0.9921\n",
            "Epoch 218/500\n",
            "1875/1875 [==============================] - 6s 3ms/step - loss: 0.0251 - accuracy: 0.9913\n",
            "Epoch 219/500\n",
            "1875/1875 [==============================] - 6s 3ms/step - loss: 0.0237 - accuracy: 0.9912\n",
            "Epoch 220/500\n",
            "1875/1875 [==============================] - 6s 3ms/step - loss: 0.0244 - accuracy: 0.9920\n",
            "Epoch 221/500\n",
            "1875/1875 [==============================] - 6s 3ms/step - loss: 0.0247 - accuracy: 0.9916\n",
            "Epoch 222/500\n",
            "1875/1875 [==============================] - 6s 3ms/step - loss: 0.0237 - accuracy: 0.9920\n",
            "Epoch 223/500\n",
            "1875/1875 [==============================] - 6s 3ms/step - loss: 0.0226 - accuracy: 0.9921\n",
            "Epoch 224/500\n",
            "1875/1875 [==============================] - 6s 3ms/step - loss: 0.0297 - accuracy: 0.9905\n",
            "Epoch 225/500\n",
            "1875/1875 [==============================] - 6s 3ms/step - loss: 0.0272 - accuracy: 0.9911\n",
            "Epoch 226/500\n",
            "1875/1875 [==============================] - 6s 3ms/step - loss: 0.0209 - accuracy: 0.9928\n",
            "Epoch 227/500\n",
            "1875/1875 [==============================] - 6s 3ms/step - loss: 0.0209 - accuracy: 0.9924\n",
            "Epoch 228/500\n",
            "1875/1875 [==============================] - 6s 3ms/step - loss: 0.0238 - accuracy: 0.9918\n",
            "Epoch 229/500\n",
            "1875/1875 [==============================] - 6s 3ms/step - loss: 0.0240 - accuracy: 0.9918\n",
            "Epoch 230/500\n",
            "1875/1875 [==============================] - 6s 3ms/step - loss: 0.0243 - accuracy: 0.9918\n",
            "Epoch 231/500\n",
            "1875/1875 [==============================] - 6s 3ms/step - loss: 0.0235 - accuracy: 0.9918\n",
            "Epoch 232/500\n",
            "1875/1875 [==============================] - 6s 3ms/step - loss: 0.0205 - accuracy: 0.9929\n",
            "Epoch 233/500\n",
            "1875/1875 [==============================] - 6s 3ms/step - loss: 0.0255 - accuracy: 0.9915\n",
            "Epoch 234/500\n",
            "1875/1875 [==============================] - 6s 3ms/step - loss: 0.0230 - accuracy: 0.9921\n",
            "Epoch 235/500\n",
            "1875/1875 [==============================] - 6s 3ms/step - loss: 0.0253 - accuracy: 0.9918\n",
            "Epoch 236/500\n",
            "1875/1875 [==============================] - 6s 3ms/step - loss: 0.0203 - accuracy: 0.9933\n",
            "Epoch 237/500\n",
            "1875/1875 [==============================] - 6s 3ms/step - loss: 0.0225 - accuracy: 0.9927\n",
            "Epoch 238/500\n",
            "1875/1875 [==============================] - 5s 3ms/step - loss: 0.0193 - accuracy: 0.9928\n",
            "Epoch 239/500\n",
            "1875/1875 [==============================] - 6s 3ms/step - loss: 0.0216 - accuracy: 0.9923\n",
            "Epoch 240/500\n",
            "1875/1875 [==============================] - 6s 3ms/step - loss: 0.0209 - accuracy: 0.9932\n",
            "Epoch 241/500\n",
            "1875/1875 [==============================] - 6s 3ms/step - loss: 0.0273 - accuracy: 0.9912\n",
            "Epoch 242/500\n",
            "1875/1875 [==============================] - 6s 3ms/step - loss: 0.0180 - accuracy: 0.9938\n",
            "Epoch 243/500\n",
            "1875/1875 [==============================] - 6s 3ms/step - loss: 0.0247 - accuracy: 0.9918\n",
            "Epoch 244/500\n",
            "1875/1875 [==============================] - 6s 3ms/step - loss: 0.0230 - accuracy: 0.9921\n",
            "Epoch 245/500\n",
            "1875/1875 [==============================] - 6s 3ms/step - loss: 0.0152 - accuracy: 0.9946\n",
            "Epoch 246/500\n",
            "1875/1875 [==============================] - 6s 3ms/step - loss: 0.0292 - accuracy: 0.9902\n",
            "Epoch 247/500\n",
            "1875/1875 [==============================] - 6s 3ms/step - loss: 0.0207 - accuracy: 0.9930\n",
            "Epoch 248/500\n",
            "1875/1875 [==============================] - 6s 3ms/step - loss: 0.0193 - accuracy: 0.9935\n",
            "Epoch 249/500\n",
            "1875/1875 [==============================] - 6s 3ms/step - loss: 0.0204 - accuracy: 0.9929\n",
            "Epoch 250/500\n",
            "1875/1875 [==============================] - 6s 3ms/step - loss: 0.0236 - accuracy: 0.9921\n",
            "Epoch 251/500\n",
            "1875/1875 [==============================] - 6s 3ms/step - loss: 0.0205 - accuracy: 0.9930\n",
            "Epoch 252/500\n",
            "1875/1875 [==============================] - 6s 3ms/step - loss: 0.0194 - accuracy: 0.9933\n",
            "Epoch 253/500\n",
            "1875/1875 [==============================] - 6s 3ms/step - loss: 0.0197 - accuracy: 0.9934\n",
            "Epoch 254/500\n",
            "1875/1875 [==============================] - 6s 3ms/step - loss: 0.0241 - accuracy: 0.9923\n",
            "Epoch 255/500\n",
            "1875/1875 [==============================] - 6s 3ms/step - loss: 0.0215 - accuracy: 0.9926\n",
            "Epoch 256/500\n",
            "1875/1875 [==============================] - 6s 3ms/step - loss: 0.0190 - accuracy: 0.9929\n",
            "Epoch 257/500\n",
            "1875/1875 [==============================] - 6s 3ms/step - loss: 0.0257 - accuracy: 0.9919\n",
            "Epoch 258/500\n",
            "1875/1875 [==============================] - 6s 3ms/step - loss: 0.0163 - accuracy: 0.9945\n",
            "Epoch 259/500\n",
            "1875/1875 [==============================] - 6s 3ms/step - loss: 0.0209 - accuracy: 0.9928\n",
            "Epoch 260/500\n",
            "1875/1875 [==============================] - 6s 3ms/step - loss: 0.0206 - accuracy: 0.9931\n",
            "Epoch 261/500\n",
            "1875/1875 [==============================] - 6s 3ms/step - loss: 0.0183 - accuracy: 0.9934\n",
            "Epoch 262/500\n",
            "1875/1875 [==============================] - 6s 3ms/step - loss: 0.0221 - accuracy: 0.9923\n",
            "Epoch 263/500\n",
            "1875/1875 [==============================] - 6s 3ms/step - loss: 0.0207 - accuracy: 0.9929\n",
            "Epoch 264/500\n",
            "1875/1875 [==============================] - 6s 3ms/step - loss: 0.0204 - accuracy: 0.9932\n",
            "Epoch 265/500\n",
            "1875/1875 [==============================] - 6s 3ms/step - loss: 0.0222 - accuracy: 0.9926\n",
            "Epoch 266/500\n",
            "1875/1875 [==============================] - 6s 3ms/step - loss: 0.0169 - accuracy: 0.9943\n",
            "Epoch 267/500\n",
            "1875/1875 [==============================] - 6s 3ms/step - loss: 0.0214 - accuracy: 0.9931\n",
            "Epoch 268/500\n",
            "1875/1875 [==============================] - 6s 3ms/step - loss: 0.0156 - accuracy: 0.9946\n",
            "Epoch 269/500\n",
            "1875/1875 [==============================] - 6s 3ms/step - loss: 0.0258 - accuracy: 0.9915\n",
            "Epoch 270/500\n",
            "1875/1875 [==============================] - 6s 3ms/step - loss: 0.0187 - accuracy: 0.9938\n",
            "Epoch 271/500\n",
            "1875/1875 [==============================] - 6s 3ms/step - loss: 0.0194 - accuracy: 0.9935\n",
            "Epoch 272/500\n",
            "1875/1875 [==============================] - 6s 3ms/step - loss: 0.0188 - accuracy: 0.9936\n",
            "Epoch 273/500\n",
            "1875/1875 [==============================] - 6s 3ms/step - loss: 0.0230 - accuracy: 0.9925\n",
            "Epoch 274/500\n",
            "1875/1875 [==============================] - 6s 3ms/step - loss: 0.0184 - accuracy: 0.9939\n",
            "Epoch 275/500\n",
            "1875/1875 [==============================] - 6s 3ms/step - loss: 0.0190 - accuracy: 0.9937\n",
            "Epoch 276/500\n",
            "1875/1875 [==============================] - 6s 3ms/step - loss: 0.0185 - accuracy: 0.9940\n",
            "Epoch 277/500\n",
            "1875/1875 [==============================] - 6s 3ms/step - loss: 0.0207 - accuracy: 0.9929\n",
            "Epoch 278/500\n",
            "1875/1875 [==============================] - 6s 3ms/step - loss: 0.0161 - accuracy: 0.9944\n",
            "Epoch 279/500\n",
            "1875/1875 [==============================] - 6s 3ms/step - loss: 0.0193 - accuracy: 0.9934\n",
            "Epoch 280/500\n",
            "1875/1875 [==============================] - 6s 3ms/step - loss: 0.0169 - accuracy: 0.9941\n",
            "Epoch 281/500\n",
            "1875/1875 [==============================] - 6s 3ms/step - loss: 0.0233 - accuracy: 0.9923\n",
            "Epoch 282/500\n",
            "1875/1875 [==============================] - 6s 3ms/step - loss: 0.0203 - accuracy: 0.9934\n",
            "Epoch 283/500\n",
            "1875/1875 [==============================] - 6s 3ms/step - loss: 0.0193 - accuracy: 0.9937\n",
            "Epoch 284/500\n",
            "1875/1875 [==============================] - 6s 3ms/step - loss: 0.0177 - accuracy: 0.9939\n",
            "Epoch 285/500\n",
            "1875/1875 [==============================] - 6s 3ms/step - loss: 0.0182 - accuracy: 0.9940\n",
            "Epoch 286/500\n",
            "1875/1875 [==============================] - 6s 3ms/step - loss: 0.0228 - accuracy: 0.9927\n",
            "Epoch 287/500\n",
            "1875/1875 [==============================] - 6s 3ms/step - loss: 0.0164 - accuracy: 0.9944\n",
            "Epoch 288/500\n",
            "1875/1875 [==============================] - 6s 3ms/step - loss: 0.0193 - accuracy: 0.9937\n",
            "Epoch 289/500\n",
            "1875/1875 [==============================] - 6s 3ms/step - loss: 0.0242 - accuracy: 0.9921\n",
            "Epoch 290/500\n",
            "1875/1875 [==============================] - 6s 3ms/step - loss: 0.0192 - accuracy: 0.9937\n",
            "Epoch 291/500\n",
            "1875/1875 [==============================] - 6s 3ms/step - loss: 0.0179 - accuracy: 0.9940\n",
            "Epoch 292/500\n",
            "1875/1875 [==============================] - 6s 3ms/step - loss: 0.0168 - accuracy: 0.9945\n",
            "Epoch 293/500\n",
            "1875/1875 [==============================] - 6s 3ms/step - loss: 0.0208 - accuracy: 0.9931\n",
            "Epoch 294/500\n",
            "1875/1875 [==============================] - 6s 3ms/step - loss: 0.0210 - accuracy: 0.9930\n",
            "Epoch 295/500\n",
            "1875/1875 [==============================] - 6s 3ms/step - loss: 0.0165 - accuracy: 0.9943\n",
            "Epoch 296/500\n",
            "1875/1875 [==============================] - 6s 3ms/step - loss: 0.0188 - accuracy: 0.9936\n",
            "Epoch 297/500\n",
            "1875/1875 [==============================] - 6s 3ms/step - loss: 0.0202 - accuracy: 0.9934\n",
            "Epoch 298/500\n",
            "1875/1875 [==============================] - 6s 3ms/step - loss: 0.0164 - accuracy: 0.9945\n",
            "Epoch 299/500\n",
            "1875/1875 [==============================] - 6s 3ms/step - loss: 0.0183 - accuracy: 0.9934\n",
            "Epoch 300/500\n",
            "1875/1875 [==============================] - 6s 3ms/step - loss: 0.0175 - accuracy: 0.9942\n",
            "Epoch 301/500\n",
            "1875/1875 [==============================] - 6s 3ms/step - loss: 0.0208 - accuracy: 0.9932\n",
            "Epoch 302/500\n",
            "1875/1875 [==============================] - 6s 3ms/step - loss: 0.0184 - accuracy: 0.9941\n",
            "Epoch 303/500\n",
            "1875/1875 [==============================] - 6s 3ms/step - loss: 0.0176 - accuracy: 0.9943\n",
            "Epoch 304/500\n",
            "1875/1875 [==============================] - 6s 3ms/step - loss: 0.0153 - accuracy: 0.9949\n",
            "Epoch 305/500\n",
            "1875/1875 [==============================] - 6s 3ms/step - loss: 0.0196 - accuracy: 0.9932\n",
            "Epoch 306/500\n",
            "1875/1875 [==============================] - 6s 3ms/step - loss: 0.0173 - accuracy: 0.9941\n",
            "Epoch 307/500\n",
            "1875/1875 [==============================] - 6s 3ms/step - loss: 0.0194 - accuracy: 0.9935\n",
            "Epoch 308/500\n",
            "1875/1875 [==============================] - 6s 3ms/step - loss: 0.0152 - accuracy: 0.9948\n",
            "Epoch 309/500\n",
            "1875/1875 [==============================] - 6s 3ms/step - loss: 0.0214 - accuracy: 0.9930\n",
            "Epoch 310/500\n",
            "1875/1875 [==============================] - 6s 3ms/step - loss: 0.0142 - accuracy: 0.9948\n",
            "Epoch 311/500\n",
            "1875/1875 [==============================] - 6s 3ms/step - loss: 0.0174 - accuracy: 0.9947\n",
            "Epoch 312/500\n",
            "1875/1875 [==============================] - 6s 3ms/step - loss: 0.0205 - accuracy: 0.9937\n",
            "Epoch 313/500\n",
            "1875/1875 [==============================] - 6s 3ms/step - loss: 0.0139 - accuracy: 0.9954\n",
            "Epoch 314/500\n",
            "1875/1875 [==============================] - 6s 3ms/step - loss: 0.0196 - accuracy: 0.9936\n",
            "Epoch 315/500\n",
            "1875/1875 [==============================] - 6s 3ms/step - loss: 0.0155 - accuracy: 0.9948\n",
            "Epoch 316/500\n",
            "1875/1875 [==============================] - 6s 3ms/step - loss: 0.0200 - accuracy: 0.9936\n",
            "Epoch 317/500\n",
            "1875/1875 [==============================] - 6s 3ms/step - loss: 0.0186 - accuracy: 0.9943\n",
            "Epoch 318/500\n",
            "1875/1875 [==============================] - 6s 3ms/step - loss: 0.0131 - accuracy: 0.9954\n",
            "Epoch 319/500\n",
            "1875/1875 [==============================] - 6s 3ms/step - loss: 0.0236 - accuracy: 0.9926\n",
            "Epoch 320/500\n",
            "1875/1875 [==============================] - 6s 3ms/step - loss: 0.0160 - accuracy: 0.9950\n",
            "Epoch 321/500\n",
            "1875/1875 [==============================] - 6s 3ms/step - loss: 0.0178 - accuracy: 0.9944\n",
            "Epoch 322/500\n",
            "1875/1875 [==============================] - 6s 3ms/step - loss: 0.0208 - accuracy: 0.9936\n",
            "Epoch 323/500\n",
            "1875/1875 [==============================] - 6s 3ms/step - loss: 0.0192 - accuracy: 0.9946\n",
            "Epoch 324/500\n",
            "1875/1875 [==============================] - 6s 3ms/step - loss: 0.0141 - accuracy: 0.9954\n",
            "Epoch 325/500\n",
            "1875/1875 [==============================] - 6s 3ms/step - loss: 0.0147 - accuracy: 0.9952\n",
            "Epoch 326/500\n",
            "1875/1875 [==============================] - 6s 3ms/step - loss: 0.0184 - accuracy: 0.9942\n",
            "Epoch 327/500\n",
            "1875/1875 [==============================] - 6s 3ms/step - loss: 0.0195 - accuracy: 0.9937\n",
            "Epoch 328/500\n",
            "1875/1875 [==============================] - 6s 3ms/step - loss: 0.0188 - accuracy: 0.9946\n",
            "Epoch 329/500\n",
            "1875/1875 [==============================] - 6s 3ms/step - loss: 0.0160 - accuracy: 0.9949\n",
            "Epoch 330/500\n",
            "1875/1875 [==============================] - 6s 3ms/step - loss: 0.0142 - accuracy: 0.9954\n",
            "Epoch 331/500\n",
            "1875/1875 [==============================] - 6s 3ms/step - loss: 0.0195 - accuracy: 0.9935\n",
            "Epoch 332/500\n",
            "1875/1875 [==============================] - 6s 3ms/step - loss: 0.0199 - accuracy: 0.9944\n",
            "Epoch 333/500\n",
            "1875/1875 [==============================] - 6s 3ms/step - loss: 0.0180 - accuracy: 0.9941\n",
            "Epoch 334/500\n",
            "1875/1875 [==============================] - 6s 3ms/step - loss: 0.0154 - accuracy: 0.9948\n",
            "Epoch 335/500\n",
            "1875/1875 [==============================] - 6s 3ms/step - loss: 0.0191 - accuracy: 0.9936\n",
            "Epoch 336/500\n",
            "1875/1875 [==============================] - 6s 3ms/step - loss: 0.0147 - accuracy: 0.9952\n",
            "Epoch 337/500\n",
            "1875/1875 [==============================] - 6s 3ms/step - loss: 0.0190 - accuracy: 0.9934\n",
            "Epoch 338/500\n",
            "1875/1875 [==============================] - 6s 3ms/step - loss: 0.0140 - accuracy: 0.9955\n",
            "Epoch 339/500\n",
            "1875/1875 [==============================] - 5s 3ms/step - loss: 0.0179 - accuracy: 0.9940\n",
            "Epoch 340/500\n",
            "1875/1875 [==============================] - 6s 3ms/step - loss: 0.0164 - accuracy: 0.9948\n",
            "Epoch 341/500\n",
            "1875/1875 [==============================] - 6s 3ms/step - loss: 0.0152 - accuracy: 0.9949\n",
            "Epoch 342/500\n",
            "1875/1875 [==============================] - 6s 3ms/step - loss: 0.0206 - accuracy: 0.9934\n",
            "Epoch 343/500\n",
            "1875/1875 [==============================] - 6s 3ms/step - loss: 0.0160 - accuracy: 0.9950\n",
            "Epoch 344/500\n",
            "1875/1875 [==============================] - 6s 3ms/step - loss: 0.0153 - accuracy: 0.9952\n",
            "Epoch 345/500\n",
            "1875/1875 [==============================] - 6s 3ms/step - loss: 0.0168 - accuracy: 0.9947\n",
            "Epoch 346/500\n",
            "1875/1875 [==============================] - 6s 3ms/step - loss: 0.0184 - accuracy: 0.9940\n",
            "Epoch 347/500\n",
            "1875/1875 [==============================] - 6s 3ms/step - loss: 0.0127 - accuracy: 0.9961\n",
            "Epoch 348/500\n",
            "1875/1875 [==============================] - 6s 3ms/step - loss: 0.0167 - accuracy: 0.9946\n",
            "Epoch 349/500\n",
            "1875/1875 [==============================] - 6s 3ms/step - loss: 0.0156 - accuracy: 0.9948\n",
            "Epoch 350/500\n",
            "1875/1875 [==============================] - 6s 3ms/step - loss: 0.0216 - accuracy: 0.9930\n",
            "Epoch 351/500\n",
            "1875/1875 [==============================] - 6s 3ms/step - loss: 0.0118 - accuracy: 0.9963\n",
            "Epoch 352/500\n",
            "1875/1875 [==============================] - 6s 3ms/step - loss: 0.0191 - accuracy: 0.9937\n",
            "Epoch 353/500\n",
            "1875/1875 [==============================] - 6s 3ms/step - loss: 0.0142 - accuracy: 0.9953\n",
            "Epoch 354/500\n",
            "1875/1875 [==============================] - 6s 3ms/step - loss: 0.0162 - accuracy: 0.9949\n",
            "Epoch 355/500\n",
            "1875/1875 [==============================] - 6s 3ms/step - loss: 0.0129 - accuracy: 0.9959\n",
            "Epoch 356/500\n",
            "1875/1875 [==============================] - 6s 3ms/step - loss: 0.0203 - accuracy: 0.9937\n",
            "Epoch 357/500\n",
            "1875/1875 [==============================] - 6s 3ms/step - loss: 0.0171 - accuracy: 0.9949\n",
            "Epoch 358/500\n",
            "1875/1875 [==============================] - 6s 3ms/step - loss: 0.0115 - accuracy: 0.9964\n",
            "Epoch 359/500\n",
            "1875/1875 [==============================] - 6s 3ms/step - loss: 0.0159 - accuracy: 0.9951\n",
            "Epoch 360/500\n",
            "1875/1875 [==============================] - 6s 3ms/step - loss: 0.0171 - accuracy: 0.9945\n",
            "Epoch 361/500\n",
            "1875/1875 [==============================] - 6s 3ms/step - loss: 0.0185 - accuracy: 0.9940\n",
            "Epoch 362/500\n",
            "1875/1875 [==============================] - 6s 3ms/step - loss: 0.0132 - accuracy: 0.9957\n",
            "Epoch 363/500\n",
            "1875/1875 [==============================] - 6s 3ms/step - loss: 0.0145 - accuracy: 0.9955\n",
            "Epoch 364/500\n",
            "1875/1875 [==============================] - 6s 3ms/step - loss: 0.0174 - accuracy: 0.9943\n",
            "Epoch 365/500\n",
            "1875/1875 [==============================] - 6s 3ms/step - loss: 0.0154 - accuracy: 0.9952\n",
            "Epoch 366/500\n",
            "1875/1875 [==============================] - 6s 3ms/step - loss: 0.0193 - accuracy: 0.9947\n",
            "Epoch 367/500\n",
            "1875/1875 [==============================] - 6s 3ms/step - loss: 0.0185 - accuracy: 0.9944\n",
            "Epoch 368/500\n",
            "1875/1875 [==============================] - 6s 3ms/step - loss: 0.0139 - accuracy: 0.9951\n",
            "Epoch 369/500\n",
            "1875/1875 [==============================] - 6s 3ms/step - loss: 0.0134 - accuracy: 0.9953\n",
            "Epoch 370/500\n",
            "1875/1875 [==============================] - 6s 3ms/step - loss: 0.0138 - accuracy: 0.9958\n",
            "Epoch 371/500\n",
            "1875/1875 [==============================] - 6s 3ms/step - loss: 0.0226 - accuracy: 0.9936\n",
            "Epoch 372/500\n",
            "1875/1875 [==============================] - 6s 3ms/step - loss: 0.0146 - accuracy: 0.9952\n",
            "Epoch 373/500\n",
            "1875/1875 [==============================] - 6s 3ms/step - loss: 0.0146 - accuracy: 0.9955\n",
            "Epoch 374/500\n",
            "1875/1875 [==============================] - 6s 3ms/step - loss: 0.0141 - accuracy: 0.9954\n",
            "Epoch 375/500\n",
            "1875/1875 [==============================] - 6s 3ms/step - loss: 0.0182 - accuracy: 0.9941\n",
            "Epoch 376/500\n",
            "1875/1875 [==============================] - 6s 3ms/step - loss: 0.0133 - accuracy: 0.9960\n",
            "Epoch 377/500\n",
            "1875/1875 [==============================] - 6s 3ms/step - loss: 0.0072 - accuracy: 0.9975\n",
            "Epoch 378/500\n",
            "1875/1875 [==============================] - 6s 3ms/step - loss: 0.0237 - accuracy: 0.9936\n",
            "Epoch 379/500\n",
            "1875/1875 [==============================] - 6s 3ms/step - loss: 0.0146 - accuracy: 0.9954\n",
            "Epoch 380/500\n",
            "1875/1875 [==============================] - 6s 3ms/step - loss: 0.0177 - accuracy: 0.9947\n",
            "Epoch 381/500\n",
            "1875/1875 [==============================] - 6s 3ms/step - loss: 0.0158 - accuracy: 0.9954\n",
            "Epoch 382/500\n",
            "1875/1875 [==============================] - 6s 3ms/step - loss: 0.0149 - accuracy: 0.9952\n",
            "Epoch 383/500\n",
            "1875/1875 [==============================] - 6s 3ms/step - loss: 0.0138 - accuracy: 0.9955\n",
            "Epoch 384/500\n",
            "1875/1875 [==============================] - 6s 3ms/step - loss: 0.0171 - accuracy: 0.9944\n",
            "Epoch 385/500\n",
            "1875/1875 [==============================] - 6s 3ms/step - loss: 0.0117 - accuracy: 0.9964\n",
            "Epoch 386/500\n",
            "1875/1875 [==============================] - 6s 3ms/step - loss: 0.0180 - accuracy: 0.9943\n",
            "Epoch 387/500\n",
            "1875/1875 [==============================] - 6s 3ms/step - loss: 0.0161 - accuracy: 0.9954\n",
            "Epoch 388/500\n",
            "1875/1875 [==============================] - 6s 3ms/step - loss: 0.0169 - accuracy: 0.9952\n",
            "Epoch 389/500\n",
            "1875/1875 [==============================] - 6s 3ms/step - loss: 0.0143 - accuracy: 0.9955\n",
            "Epoch 390/500\n",
            "1875/1875 [==============================] - 6s 3ms/step - loss: 0.0183 - accuracy: 0.9944\n",
            "Epoch 391/500\n",
            "1875/1875 [==============================] - 6s 3ms/step - loss: 0.0139 - accuracy: 0.9954\n",
            "Epoch 392/500\n",
            "1875/1875 [==============================] - 6s 3ms/step - loss: 0.0173 - accuracy: 0.9946\n",
            "Epoch 393/500\n",
            "1875/1875 [==============================] - 6s 3ms/step - loss: 0.0139 - accuracy: 0.9958\n",
            "Epoch 394/500\n",
            "1875/1875 [==============================] - 6s 3ms/step - loss: 0.0143 - accuracy: 0.9960\n",
            "Epoch 395/500\n",
            "1875/1875 [==============================] - 6s 3ms/step - loss: 0.0172 - accuracy: 0.9946\n",
            "Epoch 396/500\n",
            "1875/1875 [==============================] - 6s 3ms/step - loss: 0.0150 - accuracy: 0.9959\n",
            "Epoch 397/500\n",
            "1875/1875 [==============================] - 6s 3ms/step - loss: 0.0152 - accuracy: 0.9955\n",
            "Epoch 398/500\n",
            "1875/1875 [==============================] - 6s 3ms/step - loss: 0.0158 - accuracy: 0.9951\n",
            "Epoch 399/500\n",
            "1875/1875 [==============================] - 6s 3ms/step - loss: 0.0136 - accuracy: 0.9960\n",
            "Epoch 400/500\n",
            "1875/1875 [==============================] - 6s 3ms/step - loss: 0.0138 - accuracy: 0.9954\n",
            "Epoch 401/500\n",
            "1875/1875 [==============================] - 6s 3ms/step - loss: 0.0152 - accuracy: 0.9951\n",
            "Epoch 402/500\n",
            "1875/1875 [==============================] - 6s 3ms/step - loss: 0.0169 - accuracy: 0.9948\n",
            "Epoch 403/500\n",
            "1875/1875 [==============================] - 6s 3ms/step - loss: 0.0119 - accuracy: 0.9962\n",
            "Epoch 404/500\n",
            "1875/1875 [==============================] - 6s 3ms/step - loss: 0.0168 - accuracy: 0.9949\n",
            "Epoch 405/500\n",
            "1875/1875 [==============================] - 6s 3ms/step - loss: 0.0168 - accuracy: 0.9949\n",
            "Epoch 406/500\n",
            "1875/1875 [==============================] - 6s 3ms/step - loss: 0.0119 - accuracy: 0.9964\n",
            "Epoch 407/500\n",
            "1875/1875 [==============================] - 6s 3ms/step - loss: 0.0170 - accuracy: 0.9946\n",
            "Epoch 408/500\n",
            "1875/1875 [==============================] - 6s 3ms/step - loss: 0.0126 - accuracy: 0.9962\n",
            "Epoch 409/500\n",
            "1875/1875 [==============================] - 6s 3ms/step - loss: 0.0129 - accuracy: 0.9960\n",
            "Epoch 410/500\n",
            "1875/1875 [==============================] - 6s 3ms/step - loss: 0.0141 - accuracy: 0.9952\n",
            "Epoch 411/500\n",
            "1875/1875 [==============================] - 6s 3ms/step - loss: 0.0130 - accuracy: 0.9960\n",
            "Epoch 412/500\n",
            "1875/1875 [==============================] - 6s 3ms/step - loss: 0.0208 - accuracy: 0.9938\n",
            "Epoch 413/500\n",
            "1875/1875 [==============================] - 6s 3ms/step - loss: 0.0112 - accuracy: 0.9966\n",
            "Epoch 414/500\n",
            "1875/1875 [==============================] - 6s 3ms/step - loss: 0.0155 - accuracy: 0.9951\n",
            "Epoch 415/500\n",
            "1875/1875 [==============================] - 6s 3ms/step - loss: 0.0135 - accuracy: 0.9954\n",
            "Epoch 416/500\n",
            "1875/1875 [==============================] - 6s 3ms/step - loss: 0.0115 - accuracy: 0.9965\n",
            "Epoch 417/500\n",
            "1875/1875 [==============================] - 6s 3ms/step - loss: 0.0162 - accuracy: 0.9949\n",
            "Epoch 418/500\n",
            "1875/1875 [==============================] - 6s 3ms/step - loss: 0.0142 - accuracy: 0.9956\n",
            "Epoch 419/500\n",
            "1875/1875 [==============================] - 6s 3ms/step - loss: 0.0157 - accuracy: 0.9952\n",
            "Epoch 420/500\n",
            "1875/1875 [==============================] - 6s 3ms/step - loss: 0.0134 - accuracy: 0.9958\n",
            "Epoch 421/500\n",
            "1875/1875 [==============================] - 6s 3ms/step - loss: 0.0151 - accuracy: 0.9955\n",
            "Epoch 422/500\n",
            "1875/1875 [==============================] - 6s 3ms/step - loss: 0.0132 - accuracy: 0.9960\n",
            "Epoch 423/500\n",
            "1875/1875 [==============================] - 6s 3ms/step - loss: 0.0160 - accuracy: 0.9952\n",
            "Epoch 424/500\n",
            "1875/1875 [==============================] - 6s 3ms/step - loss: 0.0111 - accuracy: 0.9962\n",
            "Epoch 425/500\n",
            "1875/1875 [==============================] - 6s 3ms/step - loss: 0.0180 - accuracy: 0.9951\n",
            "Epoch 426/500\n",
            "1875/1875 [==============================] - 6s 3ms/step - loss: 0.0138 - accuracy: 0.9958\n",
            "Epoch 427/500\n",
            "1875/1875 [==============================] - 6s 3ms/step - loss: 0.0114 - accuracy: 0.9961\n",
            "Epoch 428/500\n",
            "1875/1875 [==============================] - 6s 3ms/step - loss: 0.0153 - accuracy: 0.9951\n",
            "Epoch 429/500\n",
            "1875/1875 [==============================] - 6s 3ms/step - loss: 0.0067 - accuracy: 0.9983\n",
            "Epoch 430/500\n",
            "1875/1875 [==============================] - 6s 3ms/step - loss: 0.0242 - accuracy: 0.9938\n",
            "Epoch 431/500\n",
            "1875/1875 [==============================] - 6s 3ms/step - loss: 0.0101 - accuracy: 0.9966\n",
            "Epoch 432/500\n",
            "1875/1875 [==============================] - 6s 3ms/step - loss: 0.0165 - accuracy: 0.9948\n",
            "Epoch 433/500\n",
            "1875/1875 [==============================] - 6s 3ms/step - loss: 0.0136 - accuracy: 0.9960\n",
            "Epoch 434/500\n",
            "1875/1875 [==============================] - 6s 3ms/step - loss: 0.0108 - accuracy: 0.9971\n",
            "Epoch 435/500\n",
            "1875/1875 [==============================] - 6s 3ms/step - loss: 0.0162 - accuracy: 0.9954\n",
            "Epoch 436/500\n",
            "1875/1875 [==============================] - 6s 3ms/step - loss: 0.0132 - accuracy: 0.9959\n",
            "Epoch 437/500\n",
            "1875/1875 [==============================] - 6s 3ms/step - loss: 0.0170 - accuracy: 0.9948\n",
            "Epoch 438/500\n",
            "1875/1875 [==============================] - 6s 3ms/step - loss: 0.0129 - accuracy: 0.9966\n",
            "Epoch 439/500\n",
            "1875/1875 [==============================] - 6s 3ms/step - loss: 0.0136 - accuracy: 0.9959\n",
            "Epoch 440/500\n",
            "1875/1875 [==============================] - 6s 3ms/step - loss: 0.0129 - accuracy: 0.9960\n",
            "Epoch 441/500\n",
            "1875/1875 [==============================] - 6s 3ms/step - loss: 0.0098 - accuracy: 0.9970\n",
            "Epoch 442/500\n",
            "1875/1875 [==============================] - 6s 3ms/step - loss: 0.0159 - accuracy: 0.9955\n",
            "Epoch 443/500\n",
            "1875/1875 [==============================] - 6s 3ms/step - loss: 0.0166 - accuracy: 0.9950\n",
            "Epoch 444/500\n",
            "1875/1875 [==============================] - 6s 3ms/step - loss: 0.0135 - accuracy: 0.9961\n",
            "Epoch 445/500\n",
            "1875/1875 [==============================] - 6s 3ms/step - loss: 0.0135 - accuracy: 0.9963\n",
            "Epoch 446/500\n",
            "1875/1875 [==============================] - 6s 3ms/step - loss: 0.0097 - accuracy: 0.9968\n",
            "Epoch 447/500\n",
            "1875/1875 [==============================] - 6s 3ms/step - loss: 0.0188 - accuracy: 0.9948\n",
            "Epoch 448/500\n",
            "1875/1875 [==============================] - 6s 3ms/step - loss: 0.0106 - accuracy: 0.9965\n",
            "Epoch 449/500\n",
            "1875/1875 [==============================] - 6s 3ms/step - loss: 0.0147 - accuracy: 0.9955\n",
            "Epoch 450/500\n",
            "1875/1875 [==============================] - 6s 3ms/step - loss: 0.0119 - accuracy: 0.9962\n",
            "Epoch 451/500\n",
            "1875/1875 [==============================] - 6s 3ms/step - loss: 0.0120 - accuracy: 0.9962\n",
            "Epoch 452/500\n",
            "1875/1875 [==============================] - 6s 3ms/step - loss: 0.0157 - accuracy: 0.9959\n",
            "Epoch 453/500\n",
            "1875/1875 [==============================] - 6s 3ms/step - loss: 0.0087 - accuracy: 0.9971\n",
            "Epoch 454/500\n",
            "1875/1875 [==============================] - 6s 3ms/step - loss: 0.0155 - accuracy: 0.9951\n",
            "Epoch 455/500\n",
            "1875/1875 [==============================] - 6s 3ms/step - loss: 0.0123 - accuracy: 0.9960\n",
            "Epoch 456/500\n",
            "1875/1875 [==============================] - 6s 3ms/step - loss: 0.0160 - accuracy: 0.9958\n",
            "Epoch 457/500\n",
            "1875/1875 [==============================] - 6s 3ms/step - loss: 0.0135 - accuracy: 0.9960\n",
            "Epoch 458/500\n",
            "1875/1875 [==============================] - 6s 3ms/step - loss: 0.0125 - accuracy: 0.9962\n",
            "Epoch 459/500\n",
            "1875/1875 [==============================] - 6s 3ms/step - loss: 0.0119 - accuracy: 0.9962\n",
            "Epoch 460/500\n",
            "1875/1875 [==============================] - 6s 3ms/step - loss: 0.0134 - accuracy: 0.9963\n",
            "Epoch 461/500\n",
            "1875/1875 [==============================] - 6s 3ms/step - loss: 0.0145 - accuracy: 0.9955\n",
            "Epoch 462/500\n",
            "1875/1875 [==============================] - 6s 3ms/step - loss: 0.0105 - accuracy: 0.9973\n",
            "Epoch 463/500\n",
            "1875/1875 [==============================] - 6s 3ms/step - loss: 0.0183 - accuracy: 0.9950\n",
            "Epoch 464/500\n",
            "1875/1875 [==============================] - 6s 3ms/step - loss: 0.0132 - accuracy: 0.9961\n",
            "Epoch 465/500\n",
            "1875/1875 [==============================] - 6s 3ms/step - loss: 0.0130 - accuracy: 0.9959\n",
            "Epoch 466/500\n",
            "1875/1875 [==============================] - 6s 3ms/step - loss: 0.0126 - accuracy: 0.9964\n",
            "Epoch 467/500\n",
            "1875/1875 [==============================] - 6s 3ms/step - loss: 0.0168 - accuracy: 0.9949\n",
            "Epoch 468/500\n",
            "1875/1875 [==============================] - 6s 3ms/step - loss: 0.0128 - accuracy: 0.9962\n",
            "Epoch 469/500\n",
            "1875/1875 [==============================] - 6s 3ms/step - loss: 0.0125 - accuracy: 0.9961\n",
            "Epoch 470/500\n",
            "1875/1875 [==============================] - 6s 3ms/step - loss: 0.0170 - accuracy: 0.9953\n",
            "Epoch 471/500\n",
            "1875/1875 [==============================] - 6s 3ms/step - loss: 0.0120 - accuracy: 0.9964\n",
            "Epoch 472/500\n",
            "1875/1875 [==============================] - 7s 4ms/step - loss: 0.0067 - accuracy: 0.9979\n",
            "Epoch 473/500\n",
            "1875/1875 [==============================] - 7s 4ms/step - loss: 0.0235 - accuracy: 0.9938\n",
            "Epoch 474/500\n",
            "1875/1875 [==============================] - 7s 4ms/step - loss: 0.0116 - accuracy: 0.9965\n",
            "Epoch 475/500\n",
            "1875/1875 [==============================] - 6s 3ms/step - loss: 0.0111 - accuracy: 0.9965\n",
            "Epoch 476/500\n",
            "1875/1875 [==============================] - 6s 3ms/step - loss: 0.0168 - accuracy: 0.9954\n",
            "Epoch 477/500\n",
            "1875/1875 [==============================] - 6s 3ms/step - loss: 0.0133 - accuracy: 0.9963\n",
            "Epoch 478/500\n",
            "1875/1875 [==============================] - 6s 3ms/step - loss: 0.0132 - accuracy: 0.9959\n",
            "Epoch 479/500\n",
            "1875/1875 [==============================] - 6s 3ms/step - loss: 0.0101 - accuracy: 0.9971\n",
            "Epoch 480/500\n",
            "1875/1875 [==============================] - 6s 3ms/step - loss: 0.0156 - accuracy: 0.9956\n",
            "Epoch 481/500\n",
            "1875/1875 [==============================] - 6s 3ms/step - loss: 0.0164 - accuracy: 0.9949\n",
            "Epoch 482/500\n",
            "1875/1875 [==============================] - 6s 3ms/step - loss: 0.0077 - accuracy: 0.9976\n",
            "Epoch 483/500\n",
            "1875/1875 [==============================] - 6s 3ms/step - loss: 0.0166 - accuracy: 0.9952\n",
            "Epoch 484/500\n",
            "1875/1875 [==============================] - 6s 3ms/step - loss: 0.0157 - accuracy: 0.9957\n",
            "Epoch 485/500\n",
            "1875/1875 [==============================] - 6s 3ms/step - loss: 0.0110 - accuracy: 0.9966\n",
            "Epoch 486/500\n",
            "1875/1875 [==============================] - 6s 3ms/step - loss: 0.0157 - accuracy: 0.9961\n",
            "Epoch 487/500\n",
            "1875/1875 [==============================] - 6s 3ms/step - loss: 0.0098 - accuracy: 0.9969\n",
            "Epoch 488/500\n",
            "1875/1875 [==============================] - 6s 3ms/step - loss: 0.0104 - accuracy: 0.9966\n",
            "Epoch 489/500\n",
            "1875/1875 [==============================] - 6s 3ms/step - loss: 0.0127 - accuracy: 0.9960\n",
            "Epoch 490/500\n",
            "1875/1875 [==============================] - 6s 3ms/step - loss: 0.0161 - accuracy: 0.9952\n",
            "Epoch 491/500\n",
            "1875/1875 [==============================] - 6s 3ms/step - loss: 0.0152 - accuracy: 0.9960\n",
            "Epoch 492/500\n",
            "1875/1875 [==============================] - 6s 3ms/step - loss: 0.0143 - accuracy: 0.9963\n",
            "Epoch 493/500\n",
            "1875/1875 [==============================] - 6s 3ms/step - loss: 0.0125 - accuracy: 0.9963\n",
            "Epoch 494/500\n",
            "1875/1875 [==============================] - 6s 3ms/step - loss: 0.0147 - accuracy: 0.9962\n",
            "Epoch 495/500\n",
            "1875/1875 [==============================] - 6s 3ms/step - loss: 0.0090 - accuracy: 0.9974\n",
            "Epoch 496/500\n",
            "1875/1875 [==============================] - 6s 3ms/step - loss: 0.0136 - accuracy: 0.9958\n",
            "Epoch 497/500\n",
            "1875/1875 [==============================] - 6s 3ms/step - loss: 0.0114 - accuracy: 0.9963\n",
            "Epoch 498/500\n",
            "1875/1875 [==============================] - 6s 3ms/step - loss: 0.0168 - accuracy: 0.9952\n",
            "Epoch 499/500\n",
            "1875/1875 [==============================] - 6s 3ms/step - loss: 0.0099 - accuracy: 0.9973\n",
            "Epoch 500/500\n",
            "1875/1875 [==============================] - 6s 3ms/step - loss: 0.0126 - accuracy: 0.9964\n"
          ]
        },
        {
          "output_type": "execute_result",
          "data": {
            "text/plain": [
              "<keras.callbacks.History at 0x7fc6e3ddbb50>"
            ]
          },
          "metadata": {},
          "execution_count": 11
        }
      ]
    },
    {
      "cell_type": "markdown",
      "metadata": {
        "id": "-JJMsvSB-1UY"
      },
      "source": [
        "Once it's done training -- you should see an accuracy value at the end of the final epoch. It might look something like 0.9098. This tells you that your neural network is about 91% accurate in classifying the training data. I.E., it figured out a pattern match between the image and the labels that worked 91% of the time. Not great, but not bad considering it was only trained for 5 epochs and done quite quickly.\n",
        "\n",
        "But how would it work with unseen data? That's why we have the test images. We can call model.evaluate, and pass in the two sets, and it will report back the loss for each. Let's give it a try:"
      ]
    },
    {
      "cell_type": "code",
      "metadata": {
        "id": "WzlqsEzX9s5P",
        "colab": {
          "base_uri": "https://localhost:8080/"
        },
        "outputId": "9170e181-c3a9-40fb-e8fa-dc2c8980622b"
      },
      "source": [
        "model.evaluate(test_images, test_labels)"
      ],
      "execution_count": 12,
      "outputs": [
        {
          "output_type": "stream",
          "name": "stdout",
          "text": [
            "313/313 [==============================] - 1s 3ms/step - loss: 2.2111 - accuracy: 0.8822\n"
          ]
        },
        {
          "output_type": "execute_result",
          "data": {
            "text/plain": [
              "[2.211052417755127, 0.8822000026702881]"
            ]
          },
          "metadata": {},
          "execution_count": 12
        }
      ]
    },
    {
      "cell_type": "markdown",
      "metadata": {
        "id": "6tki-Aro_Uax"
      },
      "source": [
        "For me, that returned a accuracy of about .8838, which means it was about 88% accurate. As expected it probably would not do as well with *unseen* data as it did with data it was trained on!  As you go through this course, you'll look at ways to improve this. \n",
        "\n",
        "To explore further, try the below exercises:\n"
      ]
    },
    {
      "cell_type": "markdown",
      "metadata": {
        "id": "htldZNWcIPSN"
      },
      "source": [
        "# Exploration Exercises"
      ]
    },
    {
      "cell_type": "code",
      "metadata": {
        "id": "ioqxrnb_nmeN"
      },
      "source": [
        "#import tensorflow as tf"
      ],
      "execution_count": 13,
      "outputs": []
    },
    {
      "cell_type": "markdown",
      "metadata": {
        "id": "rquQqIx4AaGR"
      },
      "source": [
        "### Exercise 1:\n",
        "For this first exercise run the below code: It creates a set of classifications for each of the test images, and then prints the first entry in the classifications. The output, after you run it is a list of numbers. Why do you think this is, and what do those numbers represent? "
      ]
    },
    {
      "cell_type": "code",
      "metadata": {
        "id": "RyEIki0z_hAD",
        "colab": {
          "base_uri": "https://localhost:8080/"
        },
        "outputId": "330351dc-7028-461a-b685-dffdef89c581"
      },
      "source": [
        "classifications = model.predict(test_images)\n",
        "\n",
        "print(classifications[0])"
      ],
      "execution_count": 14,
      "outputs": [
        {
          "output_type": "stream",
          "name": "stdout",
          "text": [
            "[0.00000000e+00 0.00000000e+00 0.00000000e+00 0.00000000e+00 0.00000000e+00 0.00000000e+00 0.00000000e+00 1.07067434e-19 0.00000000e+00 1.00000000e+00]\n"
          ]
        }
      ]
    },
    {
      "cell_type": "markdown",
      "metadata": {
        "id": "MdzqbQhRArzm"
      },
      "source": [
        "**Hint:** try running `print(test_labels[0])` -- and you'll get a `9`. Does that help you understand why this list looks the way it does? "
      ]
    },
    {
      "cell_type": "code",
      "metadata": {
        "id": "WnBGOrMiA1n5",
        "colab": {
          "base_uri": "https://localhost:8080/"
        },
        "outputId": "5c31a88a-fe20-48ea-d171-dcc06f5ef39b"
      },
      "source": [
        "print(test_labels[0])"
      ],
      "execution_count": 15,
      "outputs": [
        {
          "output_type": "stream",
          "name": "stdout",
          "text": [
            "9\n"
          ]
        }
      ]
    },
    {
      "cell_type": "code",
      "metadata": {
        "colab": {
          "base_uri": "https://localhost:8080/",
          "height": 1000
        },
        "id": "6NSnYXB9klf8",
        "outputId": "170141e6-3fa6-4715-be87-9e13c820a9fb"
      },
      "source": [
        "import numpy as np\n",
        "np.set_printoptions(linewidth=200)\n",
        "import matplotlib.pyplot as plt\n",
        "plt.imshow(test_images[0])\n",
        "print(test_labels[0])\n",
        "print(test_images[0])"
      ],
      "execution_count": 16,
      "outputs": [
        {
          "output_type": "stream",
          "name": "stdout",
          "text": [
            "9\n",
            "[[0.         0.         0.         0.         0.         0.         0.         0.         0.         0.         0.         0.         0.         0.         0.         0.         0.\n",
            "  0.         0.         0.         0.         0.         0.         0.         0.         0.         0.         0.        ]\n",
            " [0.         0.         0.         0.         0.         0.         0.         0.         0.         0.         0.         0.         0.         0.         0.         0.         0.\n",
            "  0.         0.         0.         0.         0.         0.         0.         0.         0.         0.         0.        ]\n",
            " [0.         0.         0.         0.         0.         0.         0.         0.         0.         0.         0.         0.         0.         0.         0.         0.         0.\n",
            "  0.         0.         0.         0.         0.         0.         0.         0.         0.         0.         0.        ]\n",
            " [0.         0.         0.         0.         0.         0.         0.         0.         0.         0.         0.         0.         0.         0.         0.         0.         0.\n",
            "  0.         0.         0.         0.         0.         0.         0.         0.         0.         0.         0.        ]\n",
            " [0.         0.         0.         0.         0.         0.         0.         0.         0.         0.         0.         0.         0.         0.         0.         0.         0.\n",
            "  0.         0.         0.         0.         0.         0.         0.         0.         0.         0.         0.        ]\n",
            " [0.         0.         0.         0.         0.         0.         0.         0.         0.         0.         0.         0.         0.         0.         0.         0.         0.\n",
            "  0.         0.         0.         0.         0.         0.         0.         0.         0.         0.         0.        ]\n",
            " [0.         0.         0.         0.         0.         0.         0.         0.         0.         0.         0.         0.         0.         0.         0.         0.         0.\n",
            "  0.         0.         0.         0.         0.         0.         0.         0.         0.         0.         0.        ]\n",
            " [0.         0.         0.         0.         0.         0.         0.         0.         0.         0.         0.         0.         0.         0.         0.         0.         0.\n",
            "  0.         0.         0.01176471 0.00392157 0.         0.         0.02745098 0.         0.14509804 0.         0.        ]\n",
            " [0.         0.         0.         0.         0.         0.         0.         0.         0.         0.         0.         0.         0.         0.00392157 0.00784314 0.         0.10588235\n",
            "  0.32941176 0.04313725 0.         0.         0.         0.         0.         0.         0.46666667 0.         0.        ]\n",
            " [0.         0.         0.         0.         0.         0.         0.         0.         0.         0.         0.         0.         0.         0.00392157 0.         0.         0.34509804\n",
            "  0.56078431 0.43137255 0.         0.         0.         0.         0.08627451 0.36470588 0.41568627 0.         0.        ]\n",
            " [0.         0.         0.         0.         0.         0.         0.         0.         0.         0.         0.         0.         0.         0.01568627 0.         0.20784314 0.50588235\n",
            "  0.47058824 0.57647059 0.68627451 0.61568627 0.65098039 0.52941176 0.60392157 0.65882353 0.54901961 0.         0.        ]\n",
            " [0.         0.         0.         0.         0.         0.         0.         0.         0.         0.         0.         0.         0.00784314 0.         0.04313725 0.5372549  0.50980392\n",
            "  0.50196078 0.62745098 0.69019608 0.62352941 0.65490196 0.69803922 0.58431373 0.59215686 0.56470588 0.         0.        ]\n",
            " [0.         0.         0.         0.         0.         0.         0.00392157 0.         0.00784314 0.00392157 0.         0.01176471 0.         0.         0.45098039 0.44705882 0.41568627\n",
            "  0.5372549  0.65882353 0.6        0.61176471 0.64705882 0.65490196 0.56078431 0.61568627 0.61960784 0.04313725 0.        ]\n",
            " [0.         0.         0.         0.         0.00392157 0.         0.         0.         0.         0.         0.01176471 0.         0.         0.34901961 0.54509804 0.35294118 0.36862745\n",
            "  0.6        0.58431373 0.51372549 0.59215686 0.6627451  0.6745098  0.56078431 0.62352941 0.6627451  0.18823529 0.        ]\n",
            " [0.         0.         0.         0.         0.         0.         0.00784314 0.01568627 0.00392157 0.         0.         0.         0.38431373 0.53333333 0.43137255 0.42745098 0.43137255\n",
            "  0.63529412 0.52941176 0.56470588 0.58431373 0.62352941 0.65490196 0.56470588 0.61960784 0.6627451  0.46666667 0.        ]\n",
            " [0.         0.         0.00784314 0.00784314 0.00392157 0.00784314 0.         0.         0.         0.         0.10196078 0.42352941 0.45882353 0.38823529 0.43529412 0.45882353 0.53333333\n",
            "  0.61176471 0.5254902  0.60392157 0.60392157 0.61176471 0.62745098 0.55294118 0.57647059 0.61176471 0.69803922 0.        ]\n",
            " [0.01176471 0.         0.         0.         0.         0.         0.         0.08235294 0.20784314 0.36078431 0.45882353 0.43529412 0.40392157 0.45098039 0.50588235 0.5254902  0.56078431\n",
            "  0.60392157 0.64705882 0.66666667 0.60392157 0.59215686 0.60392157 0.56078431 0.54117647 0.58823529 0.64705882 0.16862745]\n",
            " [0.         0.         0.09019608 0.21176471 0.25490196 0.29803922 0.33333333 0.4627451  0.50196078 0.48235294 0.43529412 0.44313725 0.4627451  0.49803922 0.49019608 0.54509804 0.52156863\n",
            "  0.53333333 0.62745098 0.54901961 0.60784314 0.63137255 0.56470588 0.60784314 0.6745098  0.63137255 0.74117647 0.24313725]\n",
            " [0.         0.26666667 0.36862745 0.35294118 0.43529412 0.44705882 0.43529412 0.44705882 0.45098039 0.49803922 0.52941176 0.53333333 0.56078431 0.49411765 0.49803922 0.59215686 0.60392157\n",
            "  0.56078431 0.58039216 0.49019608 0.63529412 0.63529412 0.56470588 0.54117647 0.6        0.63529412 0.76862745 0.22745098]\n",
            " [0.2745098  0.6627451  0.50588235 0.40784314 0.38431373 0.39215686 0.36862745 0.38039216 0.38431373 0.4        0.42352941 0.41568627 0.46666667 0.47058824 0.50588235 0.58431373 0.61176471\n",
            "  0.65490196 0.74509804 0.74509804 0.76862745 0.77647059 0.77647059 0.73333333 0.77254902 0.74117647 0.72156863 0.14117647]\n",
            " [0.0627451  0.49411765 0.67058824 0.7372549  0.7372549  0.72156863 0.67058824 0.6        0.52941176 0.47058824 0.49411765 0.49803922 0.57254902 0.7254902  0.76470588 0.81960784 0.81568627\n",
            "  1.         0.81960784 0.69411765 0.96078431 0.98823529 0.98431373 0.98431373 0.96862745 0.8627451  0.80784314 0.19215686]\n",
            " [0.         0.         0.         0.04705882 0.2627451  0.41568627 0.64313725 0.7254902  0.78039216 0.82352941 0.82745098 0.82352941 0.81568627 0.74509804 0.58823529 0.32156863 0.03137255\n",
            "  0.         0.         0.         0.69803922 0.81568627 0.7372549  0.68627451 0.63529412 0.61960784 0.59215686 0.04313725]\n",
            " [0.         0.         0.         0.         0.         0.         0.         0.         0.         0.         0.         0.         0.         0.         0.         0.         0.\n",
            "  0.         0.         0.         0.         0.         0.         0.         0.         0.         0.         0.        ]\n",
            " [0.         0.         0.         0.         0.         0.         0.         0.         0.         0.         0.         0.         0.         0.         0.         0.         0.\n",
            "  0.         0.         0.         0.         0.         0.         0.         0.         0.         0.         0.        ]\n",
            " [0.         0.         0.         0.         0.         0.         0.         0.         0.         0.         0.         0.         0.         0.         0.         0.         0.\n",
            "  0.         0.         0.         0.         0.         0.         0.         0.         0.         0.         0.        ]\n",
            " [0.         0.         0.         0.         0.         0.         0.         0.         0.         0.         0.         0.         0.         0.         0.         0.         0.\n",
            "  0.         0.         0.         0.         0.         0.         0.         0.         0.         0.         0.        ]\n",
            " [0.         0.         0.         0.         0.         0.         0.         0.         0.         0.         0.         0.         0.         0.         0.         0.         0.\n",
            "  0.         0.         0.         0.         0.         0.         0.         0.         0.         0.         0.        ]\n",
            " [0.         0.         0.         0.         0.         0.         0.         0.         0.         0.         0.         0.         0.         0.         0.         0.         0.\n",
            "  0.         0.         0.         0.         0.         0.         0.         0.         0.         0.         0.        ]]\n"
          ]
        },
        {
          "output_type": "display_data",
          "data": {
            "image/png": "[encoded data removed]",
            "text/plain": [
              "<Figure size 432x288 with 1 Axes>"
            ]
          },
          "metadata": {
            "needs_background": "light"
          }
        }
      ]
    },
    {
      "cell_type": "markdown",
      "metadata": {
        "id": "uUs7eqr7uSvs"
      },
      "source": [
        "### E1Q1: What does this list represent?\n",
        "\n",
        "\n",
        "1.   It's 10 random meaningless values\n",
        "2.   It's the first 10 classifications that the computer made\n",
        "3.   It's the probability that this item is each of the 10 classes\n"
      ]
    },
    {
      "cell_type": "markdown",
      "metadata": {
        "id": "wAbr92RTA67u"
      },
      "source": [
        "#### Answer: \n",
        "The correct answer is (3)\n",
        "\n",
        "The output of the model is a list of 10 numbers. These numbers are a probability that the value being classified is the corresponding value (https://github.com/zalandoresearch/fashion-mnist#labels), i.e. the first value in the list is the probability that the image is of a '0' (T-shirt/top), the next is a '1' (Trouser) etc. Notice that they are all VERY LOW probabilities.\n",
        "\n",
        "For index 9 (Ankle boot), the probability was in the 90's, i.e. the neural network is telling us that the image is most likely an ankle boot."
      ]
    },
    {
      "cell_type": "markdown",
      "metadata": {
        "id": "CD4kC6TBu-69"
      },
      "source": [
        "### E1Q2: How do you know that this list tells you that the item is an ankle boot?\n",
        "\n",
        "\n",
        "1.   There's not enough information to answer that question\n",
        "2.   The 10th element on the list is the biggest, and the ankle boot is labelled 9\n",
        "2.   The ankle boot is label 9, and there are 0->9 elements in the list\n"
      ]
    },
    {
      "cell_type": "markdown",
      "metadata": {
        "id": "I-haLncrva5L"
      },
      "source": [
        "#### Answer\n",
        "The correct answer is (2). Both the list and the labels are 0 based, so the ankle boot having label 9 means that it is the 10th of the 10 classes. The list having the 10th element being the highest value means that the Neural Network has predicted that the item it is classifying is most likely an ankle boot"
      ]
    },
    {
      "cell_type": "markdown",
      "metadata": {
        "id": "OgQSIfDSOWv6"
      },
      "source": [
        "### Exercise 2: \n",
        "Let's now look at the layers in your model. Experiment with different values for the dense layer with 512 neurons. What different results do you get for loss, training time etc? Why do you think that's the case? \n"
      ]
    },
    {
      "cell_type": "code",
      "metadata": {
        "id": "GSZSwV5UObQP",
        "colab": {
          "base_uri": "https://localhost:8080/",
          "height": 311
        },
        "outputId": "57b88731-a26b-4520-8576-b85c6d53fa79"
      },
      "source": [
        "mnist = tf.keras.datasets.mnist\n",
        "\n",
        "(training_images, training_labels) ,  (test_images, test_labels) = mnist.load_data()\n",
        "\n",
        "training_images = training_images/255.0\n",
        "test_images = test_images/255.0\n",
        "\n",
        "model = tf.keras.models.Sequential([tf.keras.layers.Flatten(),\n",
        "                                    tf.keras.layers.Dense(1028, activation=tf.nn.relu), # Try experimenting with this layer\n",
        "                                    tf.keras.layers.Dense(10, activation=tf.nn.softmax)])\n",
        "\n",
        "model.compile(optimizer = 'adam',\n",
        "              loss = 'sparse_categorical_crossentropy')\n",
        "\n",
        "model.fit(training_images, training_labels, epochs=5)\n",
        "\n",
        "model.evaluate(test_images, test_labels)\n",
        "\n",
        "classifications = model.predict(test_images)\n",
        "\n",
        "print(classifications[0])\n",
        "print(test_labels[0])\n",
        "\n",
        "\"\"\"import numpy as np\n",
        "np.set_printoptions(linewidth=200)\n",
        "import matplotlib.pyplot as plt\n",
        "plt.imshow(test_images[0])\n",
        "print(test_labels[0])\n",
        "print(test_images[0])\"\"\""
      ],
      "execution_count": 20,
      "outputs": [
        {
          "output_type": "stream",
          "name": "stdout",
          "text": [
            "Epoch 1/5\n",
            "1875/1875 [==============================] - 6s 3ms/step - loss: 0.1864\n",
            "Epoch 2/5\n",
            "1875/1875 [==============================] - 6s 3ms/step - loss: 0.0737\n",
            "Epoch 3/5\n",
            "1875/1875 [==============================] - 6s 3ms/step - loss: 0.0483\n",
            "Epoch 4/5\n",
            "1875/1875 [==============================] - 6s 3ms/step - loss: 0.0343\n",
            "Epoch 5/5\n",
            "1875/1875 [==============================] - 6s 3ms/step - loss: 0.0255\n",
            "313/313 [==============================] - 1s 3ms/step - loss: 0.0724\n",
            "[4.6446014e-11 2.8732378e-10 3.3509359e-08 1.9543097e-06 1.9565191e-12 8.3448737e-10 2.1235250e-13 9.9999797e-01 8.8129004e-10 5.7505050e-09]\n",
            "7\n"
          ]
        },
        {
          "output_type": "execute_result",
          "data": {
            "application/vnd.google.colaboratory.intrinsic+json": {
              "type": "string"
            },
            "text/plain": [
              "'import numpy as np\\nnp.set_printoptions(linewidth=200)\\nimport matplotlib.pyplot as plt\\nplt.imshow(test_images[0])\\nprint(test_labels[0])\\nprint(test_images[0])'"
            ]
          },
          "metadata": {},
          "execution_count": 20
        }
      ]
    },
    {
      "cell_type": "markdown",
      "metadata": {
        "id": "bOOEnHZFv5cS"
      },
      "source": [
        "### E2Q1: Increase to 1024 Neurons -- What's the impact?\n",
        "\n",
        "1. Training takes longer, but is more accurate\n",
        "2. Training takes longer, but no impact on accuracy\n",
        "3. Training takes the same time, but is more accurate\n"
      ]
    },
    {
      "cell_type": "markdown",
      "metadata": {
        "id": "U73MUP2lwrI2"
      },
      "source": [
        "#### Answer\n",
        "The correct answer is (1) by adding more Neurons we have to do more calculations, slowing down the process, but in this case they have a good impact -- we do get more accurate. That doesn't mean it's always a case of 'more is better', you can hit the law of diminishing returns very quickly!"
      ]
    },
    {
      "cell_type": "markdown",
      "metadata": {
        "id": "WtWxK16hQxLN"
      },
      "source": [
        "### Exercise 3: \n",
        "\n",
        "### E3Q1: What would happen if you remove the Flatten() layer. Why do you think that's the case? \n",
        "\n",
        "#### Answer\n",
        "You get an error about the shape of the data. It may seem vague right now, but it reinforces the rule of thumb that the first layer in your network should be the same shape as your data. Right now our data is 28x28 images, and 28 layers of 28 neurons would be infeasible, so it makes more sense to 'flatten' that 28,28 into a 784x1. Instead of writng all the code to handle that ourselves, we add the Flatten() layer at the begining, and when the arrays are loaded into the model later, they'll automatically be flattened for us."
      ]
    },
    {
      "cell_type": "code",
      "metadata": {
        "id": "ExNxCwhcQ18S",
        "colab": {
          "base_uri": "https://localhost:8080/"
        },
        "outputId": "dfde1755-efe4-4331-d3f2-c8933b2ac0bb"
      },
      "source": [
        "mnist = tf.keras.datasets.mnist\n",
        "\n",
        "(training_images, training_labels) ,  (test_images, test_labels) = mnist.load_data()\n",
        "\n",
        "training_images = training_images/255.0\n",
        "test_images = test_images/255.0\n",
        "\n",
        "model = tf.keras.models.Sequential([tf.keras.layers.Flatten(), #Try removing this layer\n",
        "                                    tf.keras.layers.Dense(64, activation=tf.nn.relu),\n",
        "                                    tf.keras.layers.Dense(10, activation=tf.nn.softmax)])\n",
        "\n",
        "model.compile(optimizer = 'adam',\n",
        "              loss = 'sparse_categorical_crossentropy')\n",
        "\n",
        "model.fit(training_images, training_labels, epochs=5)\n",
        "\n",
        "model.evaluate(test_images, test_labels)\n",
        "\n",
        "classifications = model.predict(test_images)\n",
        "\n",
        "print(classifications[0])\n",
        "print(test_labels[0])"
      ],
      "execution_count": 23,
      "outputs": [
        {
          "output_type": "stream",
          "name": "stdout",
          "text": [
            "Epoch 1/5\n",
            "1875/1875 [==============================] - 5s 3ms/step - loss: 0.3088\n",
            "Epoch 2/5\n",
            "1875/1875 [==============================] - 5s 3ms/step - loss: 0.1504\n",
            "Epoch 3/5\n",
            "1875/1875 [==============================] - 5s 3ms/step - loss: 0.1088\n",
            "Epoch 4/5\n",
            "1875/1875 [==============================] - 5s 3ms/step - loss: 0.0869\n",
            "Epoch 5/5\n",
            "1875/1875 [==============================] - 5s 3ms/step - loss: 0.0702\n",
            "313/313 [==============================] - 1s 3ms/step - loss: 0.0935\n",
            "[1.8266355e-06 2.1235778e-09 7.9534604e-04 3.3125593e-04 1.9895114e-07 1.8818479e-06 1.6071201e-10 9.9882168e-01 3.6525256e-05 1.1397651e-05]\n",
            "7\n"
          ]
        }
      ]
    },
    {
      "cell_type": "markdown",
      "metadata": {
        "id": "VqoCR-ieSGDg"
      },
      "source": [
        "### Exercise 4: \n",
        "\n",
        "Consider the final (output) layers. Why are there 10 of them? What would happen if you had a different amount than 10? For example, try training the network with 5.\n",
        "\n",
        "#### Answer\n",
        "You get an error as soon as it finds an unexpected value. Another rule of thumb -- the number of neurons in the last layer should match the number of classes you are classifying for. In this case it's the digits 0-9, so there are 10 of them, hence you should have 10 neurons in your final layer."
      ]
    },
    {
      "cell_type": "code",
      "metadata": {
        "id": "MMckVntcSPvo",
        "colab": {
          "base_uri": "https://localhost:8080/"
        },
        "outputId": "72c01429-9cca-40bf-b079-792cdd33b72a"
      },
      "source": [
        "mnist = tf.keras.datasets.mnist\n",
        "\n",
        "(training_images, training_labels) ,  (test_images, test_labels) = mnist.load_data()\n",
        "\n",
        "training_images = training_images/255.0\n",
        "test_images = test_images/255.0\n",
        "\n",
        "model = tf.keras.models.Sequential([tf.keras.layers.Flatten(),\n",
        "                                    tf.keras.layers.Dense(64, activation=tf.nn.relu),\n",
        "                                    tf.keras.layers.Dense(10, activation=tf.nn.softmax) # Try experimenting with this layer\n",
        "                                  ])\n",
        "\n",
        "model.compile(optimizer = 'adam',\n",
        "              loss = 'sparse_categorical_crossentropy')\n",
        "\n",
        "model.fit(training_images, training_labels, epochs=5)\n",
        "\n",
        "model.evaluate(test_images, test_labels)\n",
        "\n",
        "classifications = model.predict(test_images)\n",
        "\n",
        "print(classifications[0])\n",
        "print(test_labels[0])"
      ],
      "execution_count": 29,
      "outputs": [
        {
          "output_type": "stream",
          "name": "stdout",
          "text": [
            "Epoch 1/5\n",
            "1875/1875 [==============================] - 5s 3ms/step - loss: 0.2990\n",
            "Epoch 2/5\n",
            "1875/1875 [==============================] - 5s 3ms/step - loss: 0.1418\n",
            "Epoch 3/5\n",
            "1875/1875 [==============================] - 5s 3ms/step - loss: 0.1022\n",
            "Epoch 4/5\n",
            "1875/1875 [==============================] - 5s 3ms/step - loss: 0.0804\n",
            "Epoch 5/5\n",
            "1875/1875 [==============================] - 5s 3ms/step - loss: 0.0651\n",
            "313/313 [==============================] - 1s 3ms/step - loss: 0.0854\n",
            "[1.6293255e-06 9.4223729e-10 3.6069188e-05 4.2700162e-04 6.0700733e-10 1.1122866e-06 6.1800443e-12 9.9951231e-01 3.2241730e-06 1.8683028e-05]\n",
            "7\n"
          ]
        }
      ]
    },
    {
      "cell_type": "markdown",
      "metadata": {
        "id": "-0lF5MuvSuZF"
      },
      "source": [
        "### Exercise 5: \n",
        "\n",
        "Consider the effects of additional layers in the network. What will happen if you add another layer between the one with 512 and the final layer with 10. \n",
        "\n",
        "#### Answer \n",
        "There isn't a significant impact -- because this is relatively simple data. For far more complex data (including color images to be classified as flowers that you'll see in the next lesson), extra layers are often necessary. "
      ]
    },
    {
      "cell_type": "code",
      "metadata": {
        "id": "b1YPa6UhS8Es",
        "colab": {
          "base_uri": "https://localhost:8080/",
          "height": 1000
        },
        "outputId": "f1bf44e4-b6e5-451c-d0ca-471e8d997383"
      },
      "source": [
        "mnist = tf.keras.datasets.mnist\n",
        "\n",
        "(training_images, training_labels) ,  (test_images, test_labels) = mnist.load_data()\n",
        "\n",
        "training_images = training_images/255.0\n",
        "test_images = test_images/255.0\n",
        "\n",
        "model = tf.keras.models.Sequential([tf.keras.layers.Flatten(),\n",
        "                                    tf.keras.layers.Dense(256, activation=tf.nn.relu),# Add a layer here,\n",
        "                                    tf.keras.layers.Dense(256, activation=tf.nn.relu),\n",
        "                                    tf.keras.layers.Dense(512, activation=tf.nn.softmax)# Add a layer here\n",
        "                                  ])\n",
        "\n",
        "model.compile(optimizer = 'adam',\n",
        "              loss = 'sparse_categorical_crossentropy')\n",
        "\n",
        "model.fit(training_images, training_labels, epochs=5)\n",
        "\n",
        "model.evaluate(test_images, test_labels)\n",
        "\n",
        "classifications = model.predict(test_images)\n",
        "\n",
        "print(classifications[0])\n",
        "print(test_labels[0])\n",
        "\n",
        "'''import numpy as np\n",
        "np.set_printoptions(linewidth=200)\n",
        "import matplotlib.pyplot as plt\n",
        "plt.imshow(test_images[0])\n",
        "print(test_labels[0])\n",
        "print(test_images[0])'''"
      ],
      "execution_count": 32,
      "outputs": [
        {
          "output_type": "stream",
          "name": "stdout",
          "text": [
            "Epoch 1/5\n",
            "1875/1875 [==============================] - 6s 3ms/step - loss: 0.2494\n",
            "Epoch 2/5\n",
            "1875/1875 [==============================] - 6s 3ms/step - loss: 0.0882\n",
            "Epoch 3/5\n",
            "1875/1875 [==============================] - 6s 3ms/step - loss: 0.0614\n",
            "Epoch 4/5\n",
            "1875/1875 [==============================] - 6s 3ms/step - loss: 0.0464\n",
            "Epoch 5/5\n",
            "1875/1875 [==============================] - 6s 3ms/step - loss: 0.0357\n",
            "313/313 [==============================] - 1s 3ms/step - loss: 0.0676\n",
            "[1.13671217e-09 5.50148549e-08 1.82288895e-05 9.28292575e-05 2.05482381e-10 5.17511900e-09 3.25486084e-13 9.99888778e-01 1.01122737e-08 1.39094226e-07 8.24314147e-16 2.81932614e-16 6.17679560e-16\n",
            " 5.00855664e-16 5.59796663e-16 5.40680930e-16 4.93165578e-17 6.88674579e-16 5.66572556e-16 1.98006776e-16 2.90603743e-16 1.31846184e-15 1.35122137e-16 2.44344415e-16 5.32700662e-16 1.37933399e-16\n",
            " 4.83721246e-16 2.98777108e-15 8.97454278e-16 2.53984020e-16 3.01841355e-16 6.76223142e-16 7.29700408e-16 1.90776079e-16 1.02039582e-15 2.35108368e-16 5.70550276e-16 5.47925232e-16 1.04208240e-15\n",
            " 1.97273947e-16 7.42666100e-16 2.25208008e-16 1.80483332e-16 5.62601084e-16 4.60637745e-16 7.08892091e-16 2.80593613e-16 2.52095005e-16 1.15894859e-16 2.45705359e-16 3.89546323e-16 2.78118080e-16\n",
            " 7.55498861e-16 3.17944511e-16 2.65335585e-16 1.92864413e-16 1.93885352e-16 4.19137181e-16 4.20261088e-16 3.52331454e-16 1.39492787e-16 1.00795777e-15 2.83569955e-16 3.55559735e-16 7.67323071e-16\n",
            " 5.15777685e-16 2.87254257e-16 2.02912121e-15 3.25791159e-16 7.08194718e-16 2.33876623e-16 5.97990861e-16 2.30296373e-16 2.09537713e-16 2.68528820e-16 2.80137989e-16 4.93271225e-16 1.48045861e-16\n",
            " 8.22781070e-16 3.00075636e-16 4.14473788e-16 3.23937242e-16 5.97890541e-16 2.57968887e-16 9.43164371e-17 3.25947781e-16 4.11728660e-16 9.26235822e-16 9.81402336e-16 1.80019886e-16 4.68811878e-16\n",
            " 4.11796211e-16 3.20951954e-16 5.28482543e-16 1.57543509e-16 1.41214077e-16 2.29345155e-16 7.44702950e-16 3.48083187e-16 2.01977587e-16 4.30923724e-16 4.48602943e-16 3.82110909e-16 4.72514047e-16\n",
            " 3.94875616e-16 3.88584597e-16 3.31624251e-16 2.83086855e-16 5.11457446e-16 1.56027969e-16 1.06757584e-16 3.51625188e-16 1.00976661e-15 8.73776848e-16 9.97221881e-17 1.37725201e-16 4.06837204e-16\n",
            " 4.27529504e-16 1.22338938e-15 4.90308992e-16 1.30487133e-16 6.71672312e-17 1.21348005e-15 6.26868332e-16 5.74115544e-16 1.58497745e-16 3.46697044e-16 3.82608303e-16 2.45065981e-16 1.21513377e-15\n",
            " 6.32884913e-16 9.30847599e-16 3.12904215e-16 3.61825052e-16 1.55344477e-15 5.66380227e-16 4.23447388e-16 2.17911336e-16 7.69098928e-16 5.16598830e-16 4.67114445e-15 5.31985819e-16 4.87717865e-16\n",
            " 5.37312968e-16 1.38436815e-16 1.04549429e-16 6.24312463e-16 1.26506319e-15 7.89075512e-16 2.65854340e-16 2.63034832e-16 1.45168556e-16 3.45180802e-16 3.29145224e-16 3.37676381e-16 5.19117482e-16\n",
            " 1.59749408e-16 6.63262797e-16 9.85690388e-17 1.26751725e-15 5.29810744e-16 2.35411711e-16 6.75333810e-16 2.85492164e-16 2.24511509e-16 7.82283949e-16 6.44747292e-16 3.30337661e-16 1.03792474e-15\n",
            " 8.34374622e-16 2.85287499e-16 1.89986737e-15 2.31178346e-16 3.49634925e-16 2.03218782e-16 3.17342297e-16 1.50916297e-16 2.57608024e-16 2.39700663e-16 5.82247377e-16 5.48107026e-16 4.44621358e-16\n",
            " 3.33714358e-16 3.63135862e-16 2.77606155e-16 1.48611692e-16 1.66057964e-16 9.45978889e-16 1.21085350e-15 9.10638345e-16 2.65255594e-16 1.09417800e-15 7.30700383e-16 7.92342147e-16 3.68207790e-16\n",
            " 1.69811207e-16 3.89028071e-16 1.54887571e-16 1.56653058e-15 2.48209347e-16 7.93927581e-16 1.87579933e-16 8.63715632e-16 5.66875212e-16 2.33364168e-16 4.66446486e-16 5.00955031e-16 4.78673300e-16\n",
            " 2.47347332e-16 6.75359592e-16 2.28069656e-16 2.20678579e-16 1.03065268e-16 4.16229370e-16 2.57486184e-16 2.65012866e-16 3.07394530e-16 1.03070421e-15 8.26300704e-16 6.38537640e-16 4.17781955e-16\n",
            " 6.95645078e-16 7.54666387e-16 9.02890217e-16 1.76956109e-15 8.07886062e-17 8.24106677e-16 4.28352264e-16 3.59799003e-16 2.92254637e-16 3.60143692e-16 4.07483331e-16 4.53191902e-16 3.83160409e-16\n",
            " 2.50883324e-16 3.58270505e-16 6.25795565e-16 2.50531382e-16 9.36739454e-16 5.51359686e-16 4.90346367e-16 2.55362566e-16 2.61874450e-16 3.46474936e-16 1.23538570e-15 6.71411359e-16 1.67360465e-15\n",
            " 3.97761669e-16 6.06986298e-16 3.97552346e-16 2.35823369e-16 3.09435773e-16 6.00404587e-16 4.07467820e-16 4.03883759e-16 4.40747506e-16 5.32885580e-16 1.18790929e-15 1.59790913e-15 9.76450688e-16\n",
            " 6.01801366e-15 4.00225820e-16 4.43674296e-16 1.45439125e-15 5.63720332e-16 3.84602827e-16 4.41912494e-16 9.64224720e-16 1.02739506e-15 1.58992505e-16 8.48805046e-16 8.10494805e-16 6.48971868e-16\n",
            " 6.85228584e-16 1.65435183e-16 2.35044708e-16 4.27739939e-16 6.32093519e-16 5.02814004e-16 5.08956475e-16 4.12991825e-16 4.55371900e-16 8.37844810e-16 4.97172182e-16 4.58960938e-16 2.44493599e-16\n",
            " 5.70069426e-16 2.81215124e-16 4.32819939e-16 8.18058385e-16 2.95421163e-16 5.38505220e-16 6.40289040e-16 4.18554025e-16 4.21524702e-16 1.76575704e-16 8.41117587e-16 6.40420568e-17 2.08029240e-16\n",
            " 1.46628960e-16 2.60953037e-16 1.21068727e-15 6.82419188e-16 5.31365208e-16 2.74573988e-16 6.98423770e-16 1.88892556e-16 2.92780220e-16 3.71469555e-16 3.40769110e-16 2.20510284e-16 3.72855168e-16\n",
            " 4.77462414e-16 7.00002745e-16 2.49426163e-16 5.79619140e-16 1.26896843e-15 3.21616240e-16 2.32045073e-16 4.36091472e-16 7.06168456e-17 8.06632718e-17 3.04213365e-16 4.52476689e-16 2.22830625e-16\n",
            " 2.73117753e-16 3.53957466e-16 5.14506288e-16 3.37869664e-16 7.12429883e-16 2.31948617e-16 3.59124341e-16 2.12069151e-16 5.26858146e-16 3.13149007e-16 3.85201891e-16 3.07405065e-16 3.85079945e-16\n",
            " 2.85751488e-16 6.98999487e-16 1.67276206e-15 2.14503471e-16 1.85347882e-16 2.54153612e-16 5.45526752e-16 1.78534494e-16 2.22569818e-16 2.34293654e-16 2.58504821e-16 4.67283513e-16 4.83167975e-16\n",
            " 8.02266356e-16 8.50924865e-17 2.93198205e-16 7.90238223e-16 4.33621471e-16 3.26067186e-16 4.00514500e-16 5.61383421e-16 2.61472162e-16 6.44513722e-16 5.21978972e-16 6.81355367e-16 1.40347324e-16\n",
            " 1.81632637e-16 2.83907656e-16 3.31540766e-16 4.22943694e-16 6.10008459e-16 6.35061470e-16 4.34938501e-16 4.85797906e-16 1.01337455e-15 4.82203151e-16 6.28777121e-16 2.86903824e-16 1.36520091e-15\n",
            " 2.58558078e-16 2.95077612e-16 1.36705016e-16 3.12784862e-16 4.05158358e-16 3.48554905e-16 2.24335988e-16 6.07667366e-16 3.51468275e-16 2.47285049e-16 3.09552611e-16 6.01711506e-16 3.68577334e-16\n",
            " 4.14160889e-16 1.73704249e-16 5.90071103e-16 5.34759111e-16 8.27363678e-16 8.07704678e-16 2.55421038e-16 4.14551292e-16 2.94301968e-16 8.31559296e-16 2.78464173e-16 3.99367220e-16 2.65968928e-16\n",
            " 1.02604775e-15 8.82297788e-16 2.65564417e-16 2.64364647e-16 4.33545370e-16 5.33257745e-16 1.78173910e-16 5.09813461e-16 2.60078475e-16 8.10244506e-16 5.66968174e-16 3.37219407e-16 2.86365852e-16\n",
            " 3.72809667e-16 2.12061872e-16 3.76515621e-16 8.93577090e-16 4.61469638e-16 2.83978066e-16 1.74888415e-16 5.45591338e-16 4.49179931e-16 3.52480664e-16 6.67667050e-16 3.69192307e-16 1.23151793e-15\n",
            " 8.19954839e-16 2.48568462e-16 6.39969073e-16 4.28458487e-16 5.21795801e-16 6.11362017e-16 2.52467408e-16 5.13239974e-16 1.43886175e-16 3.83474791e-16 1.19861938e-16 4.26923214e-16 3.20991156e-16\n",
            " 4.47507305e-16 5.13308478e-16 3.31997634e-16 8.76557816e-16 3.45047818e-16 4.40122502e-16 8.47181178e-16 4.90739338e-16 5.38683944e-16 1.39645041e-16 1.43471261e-16 2.08399381e-16 4.26825514e-16\n",
            " 3.84815618e-16 4.35870290e-16 5.28319278e-16 7.71685131e-16 1.49985964e-16 8.43308702e-16 3.63399184e-16 3.51818390e-16 1.32823951e-16 1.71054354e-15 2.43784066e-15 1.15018466e-15 5.19452325e-16\n",
            " 1.80796880e-16 3.09479449e-16 8.64312208e-16 4.22848535e-16 4.67998885e-16 3.17171646e-16 1.06038022e-15 2.92281397e-16 4.79907480e-16 5.81055867e-16 4.07222313e-16 1.11123854e-16 7.54899691e-16\n",
            " 1.78207209e-16 1.00984359e-15 2.72932386e-16 2.35089653e-15 5.82705146e-16 3.15076960e-16 3.73163938e-16 4.06959812e-16 4.61047392e-16 1.35792868e-16 2.53449754e-16 7.53653812e-16 5.54574335e-16\n",
            " 2.09236593e-16 3.60547806e-16 2.97143605e-16 9.89926241e-16 4.08940889e-16 6.26705755e-16 3.63192693e-16 3.12355628e-16 1.57998511e-16 1.25771012e-16 3.53794068e-16 3.94875791e-15 4.99194209e-16\n",
            " 2.52452002e-16 5.30043202e-16 7.10421621e-16 3.70190773e-16 1.11894693e-15]\n",
            "7\n"
          ]
        },
        {
          "output_type": "execute_result",
          "data": {
            "application/vnd.google.colaboratory.intrinsic+json": {
              "type": "string"
            },
            "text/plain": [
              "'import numpy as np\\nnp.set_printoptions(linewidth=200)\\nimport matplotlib.pyplot as plt\\nplt.imshow(test_images[0])\\nprint(test_labels[0])\\nprint(test_images[0])'"
            ]
          },
          "metadata": {},
          "execution_count": 32
        }
      ]
    },
    {
      "cell_type": "markdown",
      "metadata": {
        "id": "Bql9fyaNUSFy"
      },
      "source": [
        "### Exercise 6: \n",
        "\n",
        "### E6Q1: Consider the impact of training for more or less epochs. Why do you think that would be the case? \n",
        "\n",
        "- Try 15 epochs -- you'll probably get a model with a much better loss than the one with 5\n",
        "- Try 30 epochs -- you might see the loss value stops decreasing, and sometimes increases.\n",
        "\n",
        "This is a side effect of something called 'overfitting' which you can learn about later and it's something you need to keep an eye out for when training neural networks. There's no point in wasting your time training if you aren't improving your loss, right! :)"
      ]
    },
    {
      "cell_type": "code",
      "metadata": {
        "id": "uE3esj9BURQe",
        "colab": {
          "base_uri": "https://localhost:8080/"
        },
        "outputId": "10cd37ce-87cc-4e89-b687-f8e295e3a45f"
      },
      "source": [
        "mnist = tf.keras.datasets.mnist\n",
        "\n",
        "(training_images, training_labels) ,  (test_images, test_labels) = mnist.load_data()\n",
        "\n",
        "training_images = training_images/255.0\n",
        "test_images = test_images/255.0\n",
        "\n",
        "model = tf.keras.models.Sequential([tf.keras.layers.Flatten(),\n",
        "                                    tf.keras.layers.Dense(128, activation=tf.nn.relu),\n",
        "                                    tf.keras.layers.Dense(10, activation=tf.nn.softmax)])\n",
        "\n",
        "model.compile(optimizer = 'adam',\n",
        "              loss = 'sparse_categorical_crossentropy')\n",
        "\n",
        "model.fit(training_images, training_labels, epochs=5) # Experiment with the number of epochs\n",
        "\n",
        "model.evaluate(test_images, test_labels)\n",
        "\n",
        "classifications = model.predict(test_images)\n",
        "\n",
        "print(classifications[34])\n",
        "print(test_labels[34])"
      ],
      "execution_count": 33,
      "outputs": [
        {
          "output_type": "stream",
          "name": "stdout",
          "text": [
            "Epoch 1/5\n",
            "1875/1875 [==============================] - 5s 3ms/step - loss: 0.2638\n",
            "Epoch 2/5\n",
            "1875/1875 [==============================] - 5s 2ms/step - loss: 0.1157\n",
            "Epoch 3/5\n",
            "1875/1875 [==============================] - 5s 2ms/step - loss: 0.0788\n",
            "Epoch 4/5\n",
            "1875/1875 [==============================] - 5s 2ms/step - loss: 0.0575\n",
            "Epoch 5/5\n",
            "1875/1875 [==============================] - 5s 3ms/step - loss: 0.0450\n",
            "313/313 [==============================] - 1s 3ms/step - loss: 0.0793\n",
            "[3.6710862e-10 2.5796419e-07 4.5379602e-05 4.6071640e-05 1.1975489e-10 1.2096880e-11 1.2862094e-14 9.9990594e-01 1.2599652e-06 1.1595007e-06]\n",
            "7\n"
          ]
        }
      ]
    },
    {
      "cell_type": "markdown",
      "metadata": {
        "id": "HS3vVkOgCDGZ"
      },
      "source": [
        "### Exercise 7: \n",
        "\n",
        "Before you trained, you normalized the data, going from values that were 0-255 to values that were 0-1. What would be the impact of removing that? Here's the complete code to give it a try. Why do you think you get different results? "
      ]
    },
    {
      "cell_type": "code",
      "metadata": {
        "id": "JDqNAqrpCNg0",
        "colab": {
          "base_uri": "https://localhost:8080/"
        },
        "outputId": "02b6ded7-debd-4b1e-b1f5-24994f42a739"
      },
      "source": [
        "mnist = tf.keras.datasets.mnist\n",
        "(training_images, training_labels), (test_images, test_labels) = mnist.load_data()\n",
        "training_images=training_images/255.0 # Experiment with removing this line\n",
        "test_images=test_images/255.0 # Experiment with removing this line\n",
        "model = tf.keras.models.Sequential([\n",
        "  tf.keras.layers.Flatten(),\n",
        "  tf.keras.layers.Dense(512, activation=tf.nn.relu),\n",
        "  tf.keras.layers.Dense(10, activation=tf.nn.softmax)\n",
        "])\n",
        "model.compile(optimizer='adam', loss='sparse_categorical_crossentropy')\n",
        "model.fit(training_images, training_labels, epochs=5)\n",
        "model.evaluate(test_images, test_labels)\n",
        "classifications = model.predict(test_images)\n",
        "print(classifications[0])\n",
        "print(test_labels[0])"
      ],
      "execution_count": 36,
      "outputs": [
        {
          "output_type": "stream",
          "name": "stdout",
          "text": [
            "Epoch 1/5\n",
            "1875/1875 [==============================] - 5s 3ms/step - loss: 0.2004\n",
            "Epoch 2/5\n",
            "1875/1875 [==============================] - 5s 3ms/step - loss: 0.0793\n",
            "Epoch 3/5\n",
            "1875/1875 [==============================] - 5s 3ms/step - loss: 0.0513\n",
            "Epoch 4/5\n",
            "1875/1875 [==============================] - 5s 3ms/step - loss: 0.0356\n",
            "Epoch 5/5\n",
            "1875/1875 [==============================] - 5s 3ms/step - loss: 0.0263\n",
            "313/313 [==============================] - 1s 3ms/step - loss: 0.0616\n",
            "[1.02072155e-08 3.06005976e-09 1.22731899e-06 2.34816471e-04 1.59192473e-14 1.70029164e-08 1.40502395e-14 9.99763787e-01 3.92168475e-09 1.29891887e-07]\n",
            "7\n"
          ]
        }
      ]
    },
    {
      "cell_type": "markdown",
      "metadata": {
        "id": "E7W2PT66ZBHQ"
      },
      "source": [
        "### Exercise 8: \n",
        "\n",
        "Earlier when you trained for extra epochs you had an issue where your loss might change. It might have taken a bit of time for you to wait for the training to do that, and you might have thought 'wouldn't it be nice if I could stop the training when I reach a desired value?' -- i.e. 95% accuracy might be enough for you, and if you reach that after 3 epochs, why sit around waiting for it to finish a lot more epochs....So how would you fix that? Like any other program...you have callbacks! Let's see them in action..."
      ]
    },
    {
      "cell_type": "code",
      "metadata": {
        "id": "pkaEHHgqZbYv",
        "colab": {
          "base_uri": "https://localhost:8080/"
        },
        "outputId": "dae3fba9-bf8f-4950-8a3e-b57d97abec28"
      },
      "source": [
        "class myCallback(tf.keras.callbacks.Callback):\n",
        "  def on_epoch_end(self, epoch, logs={}):\n",
        "    if(logs.get('accuracy') >= 0.6): # Experiment with changing this value\n",
        "      print(\"\\nReached 60% accuracy so cancelling training!\")\n",
        "      self.model.stop_training = True\n",
        "\n",
        "callbacks = myCallback()\n",
        "mnist = tf.keras.datasets.fashion_mnist\n",
        "(training_images, training_labels), (test_images, test_labels) = mnist.load_data()\n",
        "training_images=training_images/255.0\n",
        "test_images=test_images/255.0\n",
        "model = tf.keras.models.Sequential([\n",
        "  tf.keras.layers.Flatten(),\n",
        "  tf.keras.layers.Dense(512, activation=tf.nn.relu),\n",
        "  tf.keras.layers.Dense(10, activation=tf.nn.softmax)\n",
        "])\n",
        "model.compile(optimizer='adam', loss='sparse_categorical_crossentropy', metrics=['accuracy'])\n",
        "model.fit(training_images, training_labels, epochs=5, callbacks=[callbacks])\n"
      ],
      "execution_count": 39,
      "outputs": [
        {
          "output_type": "stream",
          "name": "stdout",
          "text": [
            "Epoch 1/5\n",
            "1874/1875 [============================>.] - ETA: 0s - loss: 0.4730 - accuracy: 0.8307\n",
            "Reached 60% accuracy so cancelling training!\n",
            "1875/1875 [==============================] - 6s 3ms/step - loss: 0.4732 - accuracy: 0.8307\n"
          ]
        },
        {
          "output_type": "execute_result",
          "data": {
            "text/plain": [
              "<keras.callbacks.History at 0x7fc6d67be1d0>"
            ]
          },
          "metadata": {},
          "execution_count": 39
        }
      ]
    }
  ]
}